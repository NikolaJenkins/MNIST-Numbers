{
  "cells": [
    {
      "cell_type": "markdown",
      "metadata": {
        "id": "view-in-github",
        "colab_type": "text"
      },
      "source": [
        "<a href=\"https://colab.research.google.com/github/NikolaJenkins/MNIST-Numbers/blob/main/mnist_all_numbers.ipynb\" target=\"_parent\"><img src=\"https://colab.research.google.com/assets/colab-badge.svg\" alt=\"Open In Colab\"/></a>"
      ]
    },
    {
      "cell_type": "code",
      "execution_count": 1,
      "metadata": {
        "colab": {
          "base_uri": "https://localhost:8080/"
        },
        "id": "fQJJcGRr8cJa",
        "outputId": "a52fbc0e-4558-4616-8924-ed51c51f3118",
        "collapsed": true
      },
      "outputs": [
        {
          "output_type": "stream",
          "name": "stdout",
          "text": [
            "\u001b[2K   \u001b[90m━━━━━━━━━━━━━━━━━━━━━━━━━━━━━━━━━━━━━━━━\u001b[0m \u001b[32m719.8/719.8 kB\u001b[0m \u001b[31m1.8 MB/s\u001b[0m eta \u001b[36m0:00:00\u001b[0m\n",
            "\u001b[2K   \u001b[90m━━━━━━━━━━━━━━━━━━━━━━━━━━━━━━━━━━━━━━━━\u001b[0m \u001b[32m363.4/363.4 MB\u001b[0m \u001b[31m4.6 MB/s\u001b[0m eta \u001b[36m0:00:00\u001b[0m\n",
            "\u001b[2K   \u001b[90m━━━━━━━━━━━━━━━━━━━━━━━━━━━━━━━━━━━━━━━━\u001b[0m \u001b[32m13.8/13.8 MB\u001b[0m \u001b[31m28.4 MB/s\u001b[0m eta \u001b[36m0:00:00\u001b[0m\n",
            "\u001b[2K   \u001b[90m━━━━━━━━━━━━━━━━━━━━━━━━━━━━━━━━━━━━━━━━\u001b[0m \u001b[32m24.6/24.6 MB\u001b[0m \u001b[31m22.3 MB/s\u001b[0m eta \u001b[36m0:00:00\u001b[0m\n",
            "\u001b[2K   \u001b[90m━━━━━━━━━━━━━━━━━━━━━━━━━━━━━━━━━━━━━━━━\u001b[0m \u001b[32m883.7/883.7 kB\u001b[0m \u001b[31m28.9 MB/s\u001b[0m eta \u001b[36m0:00:00\u001b[0m\n",
            "\u001b[2K   \u001b[90m━━━━━━━━━━━━━━━━━━━━━━━━━━━━━━━━━━━━━━━━\u001b[0m \u001b[32m664.8/664.8 MB\u001b[0m \u001b[31m1.8 MB/s\u001b[0m eta \u001b[36m0:00:00\u001b[0m\n",
            "\u001b[2K   \u001b[90m━━━━━━━━━━━━━━━━━━━━━━━━━━━━━━━━━━━━━━━━\u001b[0m \u001b[32m211.5/211.5 MB\u001b[0m \u001b[31m5.9 MB/s\u001b[0m eta \u001b[36m0:00:00\u001b[0m\n",
            "\u001b[2K   \u001b[90m━━━━━━━━━━━━━━━━━━━━━━━━━━━━━━━━━━━━━━━━\u001b[0m \u001b[32m56.3/56.3 MB\u001b[0m \u001b[31m12.7 MB/s\u001b[0m eta \u001b[36m0:00:00\u001b[0m\n",
            "\u001b[2K   \u001b[90m━━━━━━━━━━━━━━━━━━━━━━━━━━━━━━━━━━━━━━━━\u001b[0m \u001b[32m127.9/127.9 MB\u001b[0m \u001b[31m7.4 MB/s\u001b[0m eta \u001b[36m0:00:00\u001b[0m\n",
            "\u001b[2K   \u001b[90m━━━━━━━━━━━━━━━━━━━━━━━━━━━━━━━━━━━━━━━━\u001b[0m \u001b[32m207.5/207.5 MB\u001b[0m \u001b[31m6.2 MB/s\u001b[0m eta \u001b[36m0:00:00\u001b[0m\n",
            "\u001b[2K   \u001b[90m━━━━━━━━━━━━━━━━━━━━━━━━━━━━━━━━━━━━━━━━\u001b[0m \u001b[32m21.1/21.1 MB\u001b[0m \u001b[31m87.0 MB/s\u001b[0m eta \u001b[36m0:00:00\u001b[0m\n",
            "\u001b[2K   \u001b[90m━━━━━━━━━━━━━━━━━━━━━━━━━━━━━━━━━━━━━━━━\u001b[0m \u001b[32m1.6/1.6 MB\u001b[0m \u001b[31m65.8 MB/s\u001b[0m eta \u001b[36m0:00:00\u001b[0m\n",
            "\u001b[?25hMounted at /content/gdrive\n"
          ]
        }
      ],
      "source": [
        "#hide\n",
        "! [ -e /content ] && pip install -Uqq fastbook\n",
        "import fastbook\n",
        "fastbook.setup_book()\n",
        "from fastai.vision.all import *\n",
        "from fastbook import *"
      ]
    },
    {
      "cell_type": "code",
      "source": [
        "matplotlib.rc('image', cmap='Greys')\n",
        "path = untar_data(URLs.MNIST)\n",
        "Path.BASE_PATH = path\n",
        "train = (path/'training').ls().sorted()\n",
        "test = (path/'testing').ls().sorted()"
      ],
      "metadata": {
        "colab": {
          "base_uri": "https://localhost:8080/",
          "height": 37
        },
        "id": "jLyThYgyNwwc",
        "outputId": "bad5335a-340f-43e1-dcec-c4dca4a63fe4"
      },
      "execution_count": 2,
      "outputs": [
        {
          "output_type": "display_data",
          "data": {
            "text/plain": [
              "<IPython.core.display.HTML object>"
            ],
            "text/html": [
              "\n",
              "<style>\n",
              "    /* Turns off some styling */\n",
              "    progress {\n",
              "        /* gets rid of default border in Firefox and Opera. */\n",
              "        border: none;\n",
              "        /* Needs to be in here for Safari polyfill so background images work as expected. */\n",
              "        background-size: auto;\n",
              "    }\n",
              "    progress:not([value]), progress:not([value])::-webkit-progress-bar {\n",
              "        background: repeating-linear-gradient(45deg, #7e7e7e, #7e7e7e 10px, #5c5c5c 10px, #5c5c5c 20px);\n",
              "    }\n",
              "    .progress-bar-interrupted, .progress-bar-interrupted::-webkit-progress-bar {\n",
              "        background: #F44336;\n",
              "    }\n",
              "</style>\n"
            ]
          },
          "metadata": {}
        },
        {
          "output_type": "display_data",
          "data": {
            "text/plain": [
              "<IPython.core.display.HTML object>"
            ],
            "text/html": [
              "\n",
              "    <div>\n",
              "      <progress value='15687680' class='' max='15683414' style='width:300px; height:20px; vertical-align: middle;'></progress>\n",
              "      100.03% [15687680/15683414 00:00&lt;00:00]\n",
              "    </div>\n",
              "    "
            ]
          },
          "metadata": {}
        }
      ]
    },
    {
      "cell_type": "raw",
      "metadata": {
        "id": "CKsWQ-Hi8cJd"
      },
      "source": [
        "[[chapter_mnist_basics]]"
      ]
    },
    {
      "cell_type": "code",
      "execution_count": 3,
      "metadata": {
        "colab": {
          "base_uri": "https://localhost:8080/"
        },
        "id": "T6W1Kj0o8cJh",
        "outputId": "7d137f17-844d-46cd-b58a-a0fb46f33709"
      },
      "outputs": [
        {
          "output_type": "execute_result",
          "data": {
            "text/plain": [
              "(6131, 5421)"
            ]
          },
          "metadata": {},
          "execution_count": 3
        }
      ],
      "source": [
        "train_tensors = {}\n",
        "for path in train:\n",
        "  train_tensors[path.name] = [tensor(Image.open(o)) for o in path.ls()]\n",
        "len(train_tensors['3']), len(train_tensors['5'])"
      ]
    },
    {
      "cell_type": "code",
      "execution_count": 4,
      "metadata": {
        "colab": {
          "base_uri": "https://localhost:8080/",
          "height": 927
        },
        "id": "N2-b-h9w8cJi",
        "outputId": "0d507494-a2cf-4351-a691-2b640bd28d73",
        "collapsed": true
      },
      "outputs": [
        {
          "output_type": "execute_result",
          "data": {
            "text/plain": [
              "<pandas.io.formats.style.Styler at 0x7bf992b59c50>"
            ],
            "text/html": [
              "<style type=\"text/css\">\n",
              "#T_24813_row0_col0, #T_24813_row0_col1, #T_24813_row0_col2, #T_24813_row0_col3, #T_24813_row0_col4, #T_24813_row0_col5, #T_24813_row0_col6, #T_24813_row0_col7, #T_24813_row0_col8, #T_24813_row0_col9, #T_24813_row0_col10, #T_24813_row0_col11, #T_24813_row0_col12, #T_24813_row0_col13, #T_24813_row0_col14, #T_24813_row0_col15, #T_24813_row0_col16, #T_24813_row0_col17, #T_24813_row0_col18, #T_24813_row0_col19, #T_24813_row0_col20, #T_24813_row0_col21, #T_24813_row0_col22, #T_24813_row0_col23, #T_24813_row0_col24, #T_24813_row0_col25, #T_24813_row0_col26, #T_24813_row0_col27, #T_24813_row1_col0, #T_24813_row1_col1, #T_24813_row1_col2, #T_24813_row1_col3, #T_24813_row1_col4, #T_24813_row1_col5, #T_24813_row1_col6, #T_24813_row1_col7, #T_24813_row1_col8, #T_24813_row1_col9, #T_24813_row1_col10, #T_24813_row1_col11, #T_24813_row1_col12, #T_24813_row1_col13, #T_24813_row1_col14, #T_24813_row1_col15, #T_24813_row1_col16, #T_24813_row1_col17, #T_24813_row1_col18, #T_24813_row1_col19, #T_24813_row1_col20, #T_24813_row1_col21, #T_24813_row1_col22, #T_24813_row1_col23, #T_24813_row1_col24, #T_24813_row1_col25, #T_24813_row1_col26, #T_24813_row1_col27, #T_24813_row2_col0, #T_24813_row2_col1, #T_24813_row2_col2, #T_24813_row2_col3, #T_24813_row2_col4, #T_24813_row2_col5, #T_24813_row2_col6, #T_24813_row2_col7, #T_24813_row2_col8, #T_24813_row2_col9, #T_24813_row2_col10, #T_24813_row2_col11, #T_24813_row2_col12, #T_24813_row2_col13, #T_24813_row2_col14, #T_24813_row2_col15, #T_24813_row2_col16, #T_24813_row2_col17, #T_24813_row2_col18, #T_24813_row2_col19, #T_24813_row2_col20, #T_24813_row2_col21, #T_24813_row2_col22, #T_24813_row2_col23, #T_24813_row2_col24, #T_24813_row2_col25, #T_24813_row2_col26, #T_24813_row2_col27, #T_24813_row3_col0, #T_24813_row3_col1, #T_24813_row3_col2, #T_24813_row3_col3, #T_24813_row3_col4, #T_24813_row3_col5, #T_24813_row3_col6, #T_24813_row3_col7, #T_24813_row3_col8, #T_24813_row3_col9, #T_24813_row3_col10, #T_24813_row3_col11, #T_24813_row3_col12, #T_24813_row3_col13, #T_24813_row3_col14, #T_24813_row3_col15, #T_24813_row3_col16, #T_24813_row3_col17, #T_24813_row3_col18, #T_24813_row3_col19, #T_24813_row3_col20, #T_24813_row3_col21, #T_24813_row3_col22, #T_24813_row3_col23, #T_24813_row3_col24, #T_24813_row3_col25, #T_24813_row3_col26, #T_24813_row3_col27, #T_24813_row4_col0, #T_24813_row4_col1, #T_24813_row4_col2, #T_24813_row4_col3, #T_24813_row4_col4, #T_24813_row4_col5, #T_24813_row4_col6, #T_24813_row4_col7, #T_24813_row4_col8, #T_24813_row4_col9, #T_24813_row4_col10, #T_24813_row4_col11, #T_24813_row4_col12, #T_24813_row4_col13, #T_24813_row4_col14, #T_24813_row4_col15, #T_24813_row4_col16, #T_24813_row4_col17, #T_24813_row4_col18, #T_24813_row4_col19, #T_24813_row4_col20, #T_24813_row4_col21, #T_24813_row4_col22, #T_24813_row4_col23, #T_24813_row4_col24, #T_24813_row4_col25, #T_24813_row4_col26, #T_24813_row4_col27, #T_24813_row5_col0, #T_24813_row5_col1, #T_24813_row5_col2, #T_24813_row5_col3, #T_24813_row5_col4, #T_24813_row5_col5, #T_24813_row5_col6, #T_24813_row5_col7, #T_24813_row5_col8, #T_24813_row5_col9, #T_24813_row5_col10, #T_24813_row5_col11, #T_24813_row5_col12, #T_24813_row5_col13, #T_24813_row5_col14, #T_24813_row5_col15, #T_24813_row5_col16, #T_24813_row5_col17, #T_24813_row5_col23, #T_24813_row5_col24, #T_24813_row5_col25, #T_24813_row5_col26, #T_24813_row5_col27, #T_24813_row6_col0, #T_24813_row6_col1, #T_24813_row6_col2, #T_24813_row6_col3, #T_24813_row6_col4, #T_24813_row6_col5, #T_24813_row6_col6, #T_24813_row6_col7, #T_24813_row6_col8, #T_24813_row6_col9, #T_24813_row6_col10, #T_24813_row6_col11, #T_24813_row6_col12, #T_24813_row6_col13, #T_24813_row6_col14, #T_24813_row6_col15, #T_24813_row6_col16, #T_24813_row6_col26, #T_24813_row6_col27, #T_24813_row7_col0, #T_24813_row7_col1, #T_24813_row7_col2, #T_24813_row7_col3, #T_24813_row7_col4, #T_24813_row7_col5, #T_24813_row7_col6, #T_24813_row7_col7, #T_24813_row7_col8, #T_24813_row7_col9, #T_24813_row7_col10, #T_24813_row7_col11, #T_24813_row7_col12, #T_24813_row7_col14, #T_24813_row7_col26, #T_24813_row7_col27, #T_24813_row8_col0, #T_24813_row8_col1, #T_24813_row8_col2, #T_24813_row8_col3, #T_24813_row8_col4, #T_24813_row8_col5, #T_24813_row8_col6, #T_24813_row8_col7, #T_24813_row8_col8, #T_24813_row8_col9, #T_24813_row8_col10, #T_24813_row8_col11, #T_24813_row8_col26, #T_24813_row8_col27, #T_24813_row9_col0, #T_24813_row9_col1, #T_24813_row9_col2, #T_24813_row9_col3, #T_24813_row9_col4, #T_24813_row9_col5, #T_24813_row9_col6, #T_24813_row9_col7, #T_24813_row9_col8, #T_24813_row9_col9, #T_24813_row9_col10, #T_24813_row9_col19, #T_24813_row9_col20, #T_24813_row9_col21, #T_24813_row9_col22, #T_24813_row9_col23, #T_24813_row9_col24, #T_24813_row9_col25, #T_24813_row9_col26, #T_24813_row9_col27, #T_24813_row10_col0, #T_24813_row10_col1, #T_24813_row10_col2, #T_24813_row10_col3, #T_24813_row10_col4, #T_24813_row10_col5, #T_24813_row10_col6, #T_24813_row10_col7, #T_24813_row10_col8, #T_24813_row10_col9, #T_24813_row10_col16, #T_24813_row10_col17, #T_24813_row10_col18, #T_24813_row10_col19, #T_24813_row10_col20, #T_24813_row10_col21, #T_24813_row10_col22, #T_24813_row10_col23, #T_24813_row10_col24, #T_24813_row10_col25, #T_24813_row10_col26, #T_24813_row10_col27, #T_24813_row11_col0, #T_24813_row11_col1, #T_24813_row11_col2, #T_24813_row11_col3, #T_24813_row11_col4, #T_24813_row11_col5, #T_24813_row11_col6, #T_24813_row11_col7, #T_24813_row11_col8, #T_24813_row11_col9, #T_24813_row11_col14, #T_24813_row11_col15, #T_24813_row11_col16, #T_24813_row11_col17, #T_24813_row11_col18, #T_24813_row11_col19, #T_24813_row11_col20, #T_24813_row11_col21, #T_24813_row11_col22, #T_24813_row11_col23, #T_24813_row11_col24, #T_24813_row11_col25, #T_24813_row11_col26, #T_24813_row11_col27, #T_24813_row12_col0, #T_24813_row12_col1, #T_24813_row12_col2, #T_24813_row12_col3, #T_24813_row12_col4, #T_24813_row12_col5, #T_24813_row12_col6, #T_24813_row12_col7, #T_24813_row12_col8, #T_24813_row12_col9, #T_24813_row12_col14, #T_24813_row12_col15, #T_24813_row12_col16, #T_24813_row12_col17, #T_24813_row12_col18, #T_24813_row12_col19, #T_24813_row12_col20, #T_24813_row12_col21, #T_24813_row12_col22, #T_24813_row12_col23, #T_24813_row12_col24, #T_24813_row12_col25, #T_24813_row12_col26, #T_24813_row12_col27, #T_24813_row13_col0, #T_24813_row13_col1, #T_24813_row13_col2, #T_24813_row13_col3, #T_24813_row13_col4, #T_24813_row13_col5, #T_24813_row13_col6, #T_24813_row13_col7, #T_24813_row13_col8, #T_24813_row13_col9, #T_24813_row13_col14, #T_24813_row13_col15, #T_24813_row13_col16, #T_24813_row13_col17, #T_24813_row13_col18, #T_24813_row13_col19, #T_24813_row13_col20, #T_24813_row13_col21, #T_24813_row13_col22, #T_24813_row13_col23, #T_24813_row13_col24, #T_24813_row13_col25, #T_24813_row13_col26, #T_24813_row13_col27, #T_24813_row14_col0, #T_24813_row14_col1, #T_24813_row14_col2, #T_24813_row14_col3, #T_24813_row14_col4, #T_24813_row14_col5, #T_24813_row14_col6, #T_24813_row14_col7, #T_24813_row14_col8, #T_24813_row14_col9, #T_24813_row14_col10, #T_24813_row14_col15, #T_24813_row14_col16, #T_24813_row14_col17, #T_24813_row14_col18, #T_24813_row14_col19, #T_24813_row14_col20, #T_24813_row14_col21, #T_24813_row14_col22, #T_24813_row14_col23, #T_24813_row14_col24, #T_24813_row14_col25, #T_24813_row14_col26, #T_24813_row14_col27, #T_24813_row15_col0, #T_24813_row15_col1, #T_24813_row15_col2, #T_24813_row15_col3, #T_24813_row15_col4, #T_24813_row15_col5, #T_24813_row15_col6, #T_24813_row15_col7, #T_24813_row15_col8, #T_24813_row15_col9, #T_24813_row15_col10, #T_24813_row15_col11, #T_24813_row15_col16, #T_24813_row15_col17, #T_24813_row15_col18, #T_24813_row15_col19, #T_24813_row15_col20, #T_24813_row15_col21, #T_24813_row15_col22, #T_24813_row15_col23, #T_24813_row15_col24, #T_24813_row15_col25, #T_24813_row15_col26, #T_24813_row15_col27, #T_24813_row16_col0, #T_24813_row16_col1, #T_24813_row16_col2, #T_24813_row16_col3, #T_24813_row16_col4, #T_24813_row16_col5, #T_24813_row16_col6, #T_24813_row16_col7, #T_24813_row16_col8, #T_24813_row16_col9, #T_24813_row16_col10, #T_24813_row16_col11, #T_24813_row16_col12, #T_24813_row16_col16, #T_24813_row16_col17, #T_24813_row16_col18, #T_24813_row16_col19, #T_24813_row16_col20, #T_24813_row16_col21, #T_24813_row16_col22, #T_24813_row16_col23, #T_24813_row16_col24, #T_24813_row16_col25, #T_24813_row16_col26, #T_24813_row16_col27, #T_24813_row17_col0, #T_24813_row17_col1, #T_24813_row17_col2, #T_24813_row17_col3, #T_24813_row17_col4, #T_24813_row17_col5, #T_24813_row17_col8, #T_24813_row17_col9, #T_24813_row17_col10, #T_24813_row17_col11, #T_24813_row17_col12, #T_24813_row17_col13, #T_24813_row17_col17, #T_24813_row17_col18, #T_24813_row17_col19, #T_24813_row17_col20, #T_24813_row17_col21, #T_24813_row17_col22, #T_24813_row17_col23, #T_24813_row17_col24, #T_24813_row17_col25, #T_24813_row17_col26, #T_24813_row17_col27, #T_24813_row18_col0, #T_24813_row18_col1, #T_24813_row18_col2, #T_24813_row18_col3, #T_24813_row18_col4, #T_24813_row18_col5, #T_24813_row18_col8, #T_24813_row18_col9, #T_24813_row18_col10, #T_24813_row18_col11, #T_24813_row18_col12, #T_24813_row18_col13, #T_24813_row18_col18, #T_24813_row18_col19, #T_24813_row18_col20, #T_24813_row18_col21, #T_24813_row18_col22, #T_24813_row18_col23, #T_24813_row18_col24, #T_24813_row18_col25, #T_24813_row18_col26, #T_24813_row18_col27, #T_24813_row19_col0, #T_24813_row19_col1, #T_24813_row19_col2, #T_24813_row19_col3, #T_24813_row19_col4, #T_24813_row19_col5, #T_24813_row19_col9, #T_24813_row19_col10, #T_24813_row19_col11, #T_24813_row19_col12, #T_24813_row19_col13, #T_24813_row19_col18, #T_24813_row19_col19, #T_24813_row19_col20, #T_24813_row19_col21, #T_24813_row19_col22, #T_24813_row19_col23, #T_24813_row19_col24, #T_24813_row19_col25, #T_24813_row19_col26, #T_24813_row19_col27, #T_24813_row20_col0, #T_24813_row20_col1, #T_24813_row20_col2, #T_24813_row20_col3, #T_24813_row20_col4, #T_24813_row20_col5, #T_24813_row20_col10, #T_24813_row20_col11, #T_24813_row20_col12, #T_24813_row20_col13, #T_24813_row20_col17, #T_24813_row20_col18, #T_24813_row20_col19, #T_24813_row20_col20, #T_24813_row20_col21, #T_24813_row20_col22, #T_24813_row20_col23, #T_24813_row20_col24, #T_24813_row20_col25, #T_24813_row20_col26, #T_24813_row20_col27, #T_24813_row21_col0, #T_24813_row21_col1, #T_24813_row21_col2, #T_24813_row21_col3, #T_24813_row21_col4, #T_24813_row21_col5, #T_24813_row21_col17, #T_24813_row21_col18, #T_24813_row21_col19, #T_24813_row21_col20, #T_24813_row21_col21, #T_24813_row21_col22, #T_24813_row21_col23, #T_24813_row21_col24, #T_24813_row21_col25, #T_24813_row21_col26, #T_24813_row21_col27, #T_24813_row22_col0, #T_24813_row22_col1, #T_24813_row22_col2, #T_24813_row22_col3, #T_24813_row22_col4, #T_24813_row22_col5, #T_24813_row22_col6, #T_24813_row22_col16, #T_24813_row22_col17, #T_24813_row22_col18, #T_24813_row22_col19, #T_24813_row22_col20, #T_24813_row22_col21, #T_24813_row22_col22, #T_24813_row22_col23, #T_24813_row22_col24, #T_24813_row22_col25, #T_24813_row22_col26, #T_24813_row22_col27, #T_24813_row23_col0, #T_24813_row23_col1, #T_24813_row23_col2, #T_24813_row23_col3, #T_24813_row23_col4, #T_24813_row23_col5, #T_24813_row23_col6, #T_24813_row23_col7, #T_24813_row23_col16, #T_24813_row23_col17, #T_24813_row23_col18, #T_24813_row23_col19, #T_24813_row23_col20, #T_24813_row23_col21, #T_24813_row23_col22, #T_24813_row23_col23, #T_24813_row23_col24, #T_24813_row23_col25, #T_24813_row23_col26, #T_24813_row23_col27, #T_24813_row24_col0, #T_24813_row24_col1, #T_24813_row24_col2, #T_24813_row24_col3, #T_24813_row24_col4, #T_24813_row24_col5, #T_24813_row24_col6, #T_24813_row24_col7, #T_24813_row24_col8, #T_24813_row24_col14, #T_24813_row24_col15, #T_24813_row24_col16, #T_24813_row24_col17, #T_24813_row24_col18, #T_24813_row24_col19, #T_24813_row24_col20, #T_24813_row24_col21, #T_24813_row24_col22, #T_24813_row24_col23, #T_24813_row24_col24, #T_24813_row24_col25, #T_24813_row24_col26, #T_24813_row24_col27, #T_24813_row25_col0, #T_24813_row25_col1, #T_24813_row25_col2, #T_24813_row25_col3, #T_24813_row25_col4, #T_24813_row25_col5, #T_24813_row25_col6, #T_24813_row25_col7, #T_24813_row25_col8, #T_24813_row25_col9, #T_24813_row25_col10, #T_24813_row25_col11, #T_24813_row25_col12, #T_24813_row25_col13, #T_24813_row25_col14, #T_24813_row25_col15, #T_24813_row25_col16, #T_24813_row25_col17, #T_24813_row25_col18, #T_24813_row25_col19, #T_24813_row25_col20, #T_24813_row25_col21, #T_24813_row25_col22, #T_24813_row25_col23, #T_24813_row25_col24, #T_24813_row25_col25, #T_24813_row25_col26, #T_24813_row25_col27, #T_24813_row26_col0, #T_24813_row26_col1, #T_24813_row26_col2, #T_24813_row26_col3, #T_24813_row26_col4, #T_24813_row26_col5, #T_24813_row26_col6, #T_24813_row26_col7, #T_24813_row26_col8, #T_24813_row26_col9, #T_24813_row26_col10, #T_24813_row26_col11, #T_24813_row26_col12, #T_24813_row26_col13, #T_24813_row26_col14, #T_24813_row26_col15, #T_24813_row26_col16, #T_24813_row26_col17, #T_24813_row26_col18, #T_24813_row26_col19, #T_24813_row26_col20, #T_24813_row26_col21, #T_24813_row26_col22, #T_24813_row26_col23, #T_24813_row26_col24, #T_24813_row26_col25, #T_24813_row26_col26, #T_24813_row26_col27, #T_24813_row27_col0, #T_24813_row27_col1, #T_24813_row27_col2, #T_24813_row27_col3, #T_24813_row27_col4, #T_24813_row27_col5, #T_24813_row27_col6, #T_24813_row27_col7, #T_24813_row27_col8, #T_24813_row27_col9, #T_24813_row27_col10, #T_24813_row27_col11, #T_24813_row27_col12, #T_24813_row27_col13, #T_24813_row27_col14, #T_24813_row27_col15, #T_24813_row27_col16, #T_24813_row27_col17, #T_24813_row27_col18, #T_24813_row27_col19, #T_24813_row27_col20, #T_24813_row27_col21, #T_24813_row27_col22, #T_24813_row27_col23, #T_24813_row27_col24, #T_24813_row27_col25, #T_24813_row27_col26, #T_24813_row27_col27 {\n",
              "  font-size: 6pt;\n",
              "  background-color: #ffffff;\n",
              "  color: #000000;\n",
              "}\n",
              "#T_24813_row5_col18 {\n",
              "  font-size: 6pt;\n",
              "  background-color: #fdfdfd;\n",
              "  color: #000000;\n",
              "}\n",
              "#T_24813_row5_col19, #T_24813_row5_col20, #T_24813_row5_col21, #T_24813_row21_col11, #T_24813_row21_col12 {\n",
              "  font-size: 6pt;\n",
              "  background-color: #f1f1f1;\n",
              "  color: #000000;\n",
              "}\n",
              "#T_24813_row5_col22, #T_24813_row12_col13, #T_24813_row13_col10, #T_24813_row20_col9, #T_24813_row24_col9 {\n",
              "  font-size: 6pt;\n",
              "  background-color: #f9f9f9;\n",
              "  color: #000000;\n",
              "}\n",
              "#T_24813_row6_col17, #T_24813_row9_col18 {\n",
              "  font-size: 6pt;\n",
              "  background-color: #e2e2e2;\n",
              "  color: #000000;\n",
              "}\n",
              "#T_24813_row6_col18 {\n",
              "  font-size: 6pt;\n",
              "  background-color: #5d5d5d;\n",
              "  color: #f1f1f1;\n",
              "}\n",
              "#T_24813_row6_col19, #T_24813_row6_col20, #T_24813_row6_col21, #T_24813_row7_col18, #T_24813_row7_col19, #T_24813_row7_col20, #T_24813_row7_col21, #T_24813_row7_col22, #T_24813_row7_col23, #T_24813_row7_col24, #T_24813_row7_col25, #T_24813_row8_col16, #T_24813_row8_col17, #T_24813_row9_col12, #T_24813_row9_col13, #T_24813_row9_col14, #T_24813_row11_col11, #T_24813_row12_col11, #T_24813_row13_col12, #T_24813_row17_col15, #T_24813_row18_col6, #T_24813_row19_col6, #T_24813_row20_col7, #T_24813_row21_col8, #T_24813_row22_col9, #T_24813_row22_col10, #T_24813_row22_col11, #T_24813_row23_col10, #T_24813_row23_col11 {\n",
              "  font-size: 6pt;\n",
              "  background-color: #000000;\n",
              "  color: #f1f1f1;\n",
              "}\n",
              "#T_24813_row6_col22 {\n",
              "  font-size: 6pt;\n",
              "  background-color: #393939;\n",
              "  color: #f1f1f1;\n",
              "}\n",
              "#T_24813_row6_col23, #T_24813_row6_col24 {\n",
              "  font-size: 6pt;\n",
              "  background-color: #676767;\n",
              "  color: #f1f1f1;\n",
              "}\n",
              "#T_24813_row6_col25, #T_24813_row17_col7 {\n",
              "  font-size: 6pt;\n",
              "  background-color: #dcdcdc;\n",
              "  color: #000000;\n",
              "}\n",
              "#T_24813_row7_col13, #T_24813_row21_col6 {\n",
              "  font-size: 6pt;\n",
              "  background-color: #cecece;\n",
              "  color: #000000;\n",
              "}\n",
              "#T_24813_row7_col15, #T_24813_row8_col25, #T_24813_row15_col12, #T_24813_row19_col8, #T_24813_row19_col17, #T_24813_row23_col15 {\n",
              "  font-size: 6pt;\n",
              "  background-color: #f6f6f6;\n",
              "  color: #000000;\n",
              "}\n",
              "#T_24813_row7_col16 {\n",
              "  font-size: 6pt;\n",
              "  background-color: #9a9a9a;\n",
              "  color: #f1f1f1;\n",
              "}\n",
              "#T_24813_row7_col17, #T_24813_row9_col15, #T_24813_row21_col15 {\n",
              "  font-size: 6pt;\n",
              "  background-color: #070707;\n",
              "  color: #f1f1f1;\n",
              "}\n",
              "#T_24813_row8_col12 {\n",
              "  font-size: 6pt;\n",
              "  background-color: #979797;\n",
              "  color: #f1f1f1;\n",
              "}\n",
              "#T_24813_row8_col13 {\n",
              "  font-size: 6pt;\n",
              "  background-color: #050505;\n",
              "  color: #f1f1f1;\n",
              "}\n",
              "#T_24813_row8_col14 {\n",
              "  font-size: 6pt;\n",
              "  background-color: #222222;\n",
              "  color: #f1f1f1;\n",
              "}\n",
              "#T_24813_row8_col15, #T_24813_row15_col13 {\n",
              "  font-size: 6pt;\n",
              "  background-color: #1a1a1a;\n",
              "  color: #f1f1f1;\n",
              "}\n",
              "#T_24813_row8_col18 {\n",
              "  font-size: 6pt;\n",
              "  background-color: #0e0e0e;\n",
              "  color: #f1f1f1;\n",
              "}\n",
              "#T_24813_row8_col19, #T_24813_row8_col20, #T_24813_row8_col21, #T_24813_row17_col14, #T_24813_row20_col14 {\n",
              "  font-size: 6pt;\n",
              "  background-color: #878787;\n",
              "  color: #f1f1f1;\n",
              "}\n",
              "#T_24813_row8_col22, #T_24813_row21_col10 {\n",
              "  font-size: 6pt;\n",
              "  background-color: #cccccc;\n",
              "  color: #000000;\n",
              "}\n",
              "#T_24813_row8_col23, #T_24813_row8_col24, #T_24813_row24_col10, #T_24813_row24_col11, #T_24813_row24_col12 {\n",
              "  font-size: 6pt;\n",
              "  background-color: #f2f2f2;\n",
              "  color: #000000;\n",
              "}\n",
              "#T_24813_row9_col11 {\n",
              "  font-size: 6pt;\n",
              "  background-color: #d3d3d3;\n",
              "  color: #000000;\n",
              "}\n",
              "#T_24813_row9_col16, #T_24813_row10_col11 {\n",
              "  font-size: 6pt;\n",
              "  background-color: #1f1f1f;\n",
              "  color: #f1f1f1;\n",
              "}\n",
              "#T_24813_row9_col17 {\n",
              "  font-size: 6pt;\n",
              "  background-color: #989898;\n",
              "  color: #f1f1f1;\n",
              "}\n",
              "#T_24813_row10_col10, #T_24813_row14_col11, #T_24813_row23_col8 {\n",
              "  font-size: 6pt;\n",
              "  background-color: #e7e7e7;\n",
              "  color: #000000;\n",
              "}\n",
              "#T_24813_row10_col12, #T_24813_row14_col13, #T_24813_row18_col15, #T_24813_row19_col15, #T_24813_row20_col15, #T_24813_row22_col12, #T_24813_row22_col13, #T_24813_row23_col12 {\n",
              "  font-size: 6pt;\n",
              "  background-color: #010101;\n",
              "  color: #f1f1f1;\n",
              "}\n",
              "#T_24813_row10_col13 {\n",
              "  font-size: 6pt;\n",
              "  background-color: #7b7b7b;\n",
              "  color: #f1f1f1;\n",
              "}\n",
              "#T_24813_row10_col14 {\n",
              "  font-size: 6pt;\n",
              "  background-color: #c7c7c7;\n",
              "  color: #000000;\n",
              "}\n",
              "#T_24813_row10_col15 {\n",
              "  font-size: 6pt;\n",
              "  background-color: #d8d8d8;\n",
              "  color: #000000;\n",
              "}\n",
              "#T_24813_row11_col10, #T_24813_row17_col6 {\n",
              "  font-size: 6pt;\n",
              "  background-color: #868686;\n",
              "  color: #f1f1f1;\n",
              "}\n",
              "#T_24813_row11_col12 {\n",
              "  font-size: 6pt;\n",
              "  background-color: #555555;\n",
              "  color: #f1f1f1;\n",
              "}\n",
              "#T_24813_row11_col13, #T_24813_row18_col17 {\n",
              "  font-size: 6pt;\n",
              "  background-color: #fcfcfc;\n",
              "  color: #000000;\n",
              "}\n",
              "#T_24813_row12_col10 {\n",
              "  font-size: 6pt;\n",
              "  background-color: #c0c0c0;\n",
              "  color: #000000;\n",
              "}\n",
              "#T_24813_row12_col12 {\n",
              "  font-size: 6pt;\n",
              "  background-color: #3c3c3c;\n",
              "  color: #f1f1f1;\n",
              "}\n",
              "#T_24813_row13_col11 {\n",
              "  font-size: 6pt;\n",
              "  background-color: #4a4a4a;\n",
              "  color: #f1f1f1;\n",
              "}\n",
              "#T_24813_row13_col13 {\n",
              "  font-size: 6pt;\n",
              "  background-color: #b3b3b3;\n",
              "  color: #000000;\n",
              "}\n",
              "#T_24813_row14_col12 {\n",
              "  font-size: 6pt;\n",
              "  background-color: #2e2e2e;\n",
              "  color: #f1f1f1;\n",
              "}\n",
              "#T_24813_row14_col14, #T_24813_row21_col16 {\n",
              "  font-size: 6pt;\n",
              "  background-color: #b6b6b6;\n",
              "  color: #000000;\n",
              "}\n",
              "#T_24813_row15_col14, #T_24813_row21_col7 {\n",
              "  font-size: 6pt;\n",
              "  background-color: #090909;\n",
              "  color: #f1f1f1;\n",
              "}\n",
              "#T_24813_row15_col15, #T_24813_row18_col14, #T_24813_row19_col14 {\n",
              "  font-size: 6pt;\n",
              "  background-color: #d7d7d7;\n",
              "  color: #000000;\n",
              "}\n",
              "#T_24813_row16_col13 {\n",
              "  font-size: 6pt;\n",
              "  background-color: #cfcfcf;\n",
              "  color: #000000;\n",
              "}\n",
              "#T_24813_row16_col14, #T_24813_row22_col14 {\n",
              "  font-size: 6pt;\n",
              "  background-color: #020202;\n",
              "  color: #f1f1f1;\n",
              "}\n",
              "#T_24813_row16_col15 {\n",
              "  font-size: 6pt;\n",
              "  background-color: #575757;\n",
              "  color: #f1f1f1;\n",
              "}\n",
              "#T_24813_row17_col16 {\n",
              "  font-size: 6pt;\n",
              "  background-color: #9f9f9f;\n",
              "  color: #f1f1f1;\n",
              "}\n",
              "#T_24813_row18_col7 {\n",
              "  font-size: 6pt;\n",
              "  background-color: #474747;\n",
              "  color: #f1f1f1;\n",
              "}\n",
              "#T_24813_row18_col16 {\n",
              "  font-size: 6pt;\n",
              "  background-color: #545454;\n",
              "  color: #f1f1f1;\n",
              "}\n",
              "#T_24813_row19_col7 {\n",
              "  font-size: 6pt;\n",
              "  background-color: #2c2c2c;\n",
              "  color: #f1f1f1;\n",
              "}\n",
              "#T_24813_row19_col16 {\n",
              "  font-size: 6pt;\n",
              "  background-color: #212121;\n",
              "  color: #f1f1f1;\n",
              "}\n",
              "#T_24813_row20_col6 {\n",
              "  font-size: 6pt;\n",
              "  background-color: #797979;\n",
              "  color: #f1f1f1;\n",
              "}\n",
              "#T_24813_row20_col8 {\n",
              "  font-size: 6pt;\n",
              "  background-color: #4d4d4d;\n",
              "  color: #f1f1f1;\n",
              "}\n",
              "#T_24813_row20_col16 {\n",
              "  font-size: 6pt;\n",
              "  background-color: #686868;\n",
              "  color: #f1f1f1;\n",
              "}\n",
              "#T_24813_row21_col9 {\n",
              "  font-size: 6pt;\n",
              "  background-color: #3d3d3d;\n",
              "  color: #f1f1f1;\n",
              "}\n",
              "#T_24813_row21_col13 {\n",
              "  font-size: 6pt;\n",
              "  background-color: #949494;\n",
              "  color: #f1f1f1;\n",
              "}\n",
              "#T_24813_row21_col14 {\n",
              "  font-size: 6pt;\n",
              "  background-color: #404040;\n",
              "  color: #f1f1f1;\n",
              "}\n",
              "#T_24813_row22_col7 {\n",
              "  font-size: 6pt;\n",
              "  background-color: #c8c8c8;\n",
              "  color: #000000;\n",
              "}\n",
              "#T_24813_row22_col8 {\n",
              "  font-size: 6pt;\n",
              "  background-color: #0f0f0f;\n",
              "  color: #f1f1f1;\n",
              "}\n",
              "#T_24813_row22_col15 {\n",
              "  font-size: 6pt;\n",
              "  background-color: #656565;\n",
              "  color: #f1f1f1;\n",
              "}\n",
              "#T_24813_row23_col9 {\n",
              "  font-size: 6pt;\n",
              "  background-color: #4b4b4b;\n",
              "  color: #f1f1f1;\n",
              "}\n",
              "#T_24813_row23_col13 {\n",
              "  font-size: 6pt;\n",
              "  background-color: #5f5f5f;\n",
              "  color: #f1f1f1;\n",
              "}\n",
              "#T_24813_row23_col14 {\n",
              "  font-size: 6pt;\n",
              "  background-color: #777777;\n",
              "  color: #f1f1f1;\n",
              "}\n",
              "#T_24813_row24_col13 {\n",
              "  font-size: 6pt;\n",
              "  background-color: #fefefe;\n",
              "  color: #000000;\n",
              "}\n",
              "</style>\n",
              "<table id=\"T_24813\" class=\"dataframe\">\n",
              "  <thead>\n",
              "    <tr>\n",
              "      <th class=\"blank level0\" >&nbsp;</th>\n",
              "      <th id=\"T_24813_level0_col0\" class=\"col_heading level0 col0\" >0</th>\n",
              "      <th id=\"T_24813_level0_col1\" class=\"col_heading level0 col1\" >1</th>\n",
              "      <th id=\"T_24813_level0_col2\" class=\"col_heading level0 col2\" >2</th>\n",
              "      <th id=\"T_24813_level0_col3\" class=\"col_heading level0 col3\" >3</th>\n",
              "      <th id=\"T_24813_level0_col4\" class=\"col_heading level0 col4\" >4</th>\n",
              "      <th id=\"T_24813_level0_col5\" class=\"col_heading level0 col5\" >5</th>\n",
              "      <th id=\"T_24813_level0_col6\" class=\"col_heading level0 col6\" >6</th>\n",
              "      <th id=\"T_24813_level0_col7\" class=\"col_heading level0 col7\" >7</th>\n",
              "      <th id=\"T_24813_level0_col8\" class=\"col_heading level0 col8\" >8</th>\n",
              "      <th id=\"T_24813_level0_col9\" class=\"col_heading level0 col9\" >9</th>\n",
              "      <th id=\"T_24813_level0_col10\" class=\"col_heading level0 col10\" >10</th>\n",
              "      <th id=\"T_24813_level0_col11\" class=\"col_heading level0 col11\" >11</th>\n",
              "      <th id=\"T_24813_level0_col12\" class=\"col_heading level0 col12\" >12</th>\n",
              "      <th id=\"T_24813_level0_col13\" class=\"col_heading level0 col13\" >13</th>\n",
              "      <th id=\"T_24813_level0_col14\" class=\"col_heading level0 col14\" >14</th>\n",
              "      <th id=\"T_24813_level0_col15\" class=\"col_heading level0 col15\" >15</th>\n",
              "      <th id=\"T_24813_level0_col16\" class=\"col_heading level0 col16\" >16</th>\n",
              "      <th id=\"T_24813_level0_col17\" class=\"col_heading level0 col17\" >17</th>\n",
              "      <th id=\"T_24813_level0_col18\" class=\"col_heading level0 col18\" >18</th>\n",
              "      <th id=\"T_24813_level0_col19\" class=\"col_heading level0 col19\" >19</th>\n",
              "      <th id=\"T_24813_level0_col20\" class=\"col_heading level0 col20\" >20</th>\n",
              "      <th id=\"T_24813_level0_col21\" class=\"col_heading level0 col21\" >21</th>\n",
              "      <th id=\"T_24813_level0_col22\" class=\"col_heading level0 col22\" >22</th>\n",
              "      <th id=\"T_24813_level0_col23\" class=\"col_heading level0 col23\" >23</th>\n",
              "      <th id=\"T_24813_level0_col24\" class=\"col_heading level0 col24\" >24</th>\n",
              "      <th id=\"T_24813_level0_col25\" class=\"col_heading level0 col25\" >25</th>\n",
              "      <th id=\"T_24813_level0_col26\" class=\"col_heading level0 col26\" >26</th>\n",
              "      <th id=\"T_24813_level0_col27\" class=\"col_heading level0 col27\" >27</th>\n",
              "    </tr>\n",
              "  </thead>\n",
              "  <tbody>\n",
              "    <tr>\n",
              "      <th id=\"T_24813_level0_row0\" class=\"row_heading level0 row0\" >0</th>\n",
              "      <td id=\"T_24813_row0_col0\" class=\"data row0 col0\" >0</td>\n",
              "      <td id=\"T_24813_row0_col1\" class=\"data row0 col1\" >0</td>\n",
              "      <td id=\"T_24813_row0_col2\" class=\"data row0 col2\" >0</td>\n",
              "      <td id=\"T_24813_row0_col3\" class=\"data row0 col3\" >0</td>\n",
              "      <td id=\"T_24813_row0_col4\" class=\"data row0 col4\" >0</td>\n",
              "      <td id=\"T_24813_row0_col5\" class=\"data row0 col5\" >0</td>\n",
              "      <td id=\"T_24813_row0_col6\" class=\"data row0 col6\" >0</td>\n",
              "      <td id=\"T_24813_row0_col7\" class=\"data row0 col7\" >0</td>\n",
              "      <td id=\"T_24813_row0_col8\" class=\"data row0 col8\" >0</td>\n",
              "      <td id=\"T_24813_row0_col9\" class=\"data row0 col9\" >0</td>\n",
              "      <td id=\"T_24813_row0_col10\" class=\"data row0 col10\" >0</td>\n",
              "      <td id=\"T_24813_row0_col11\" class=\"data row0 col11\" >0</td>\n",
              "      <td id=\"T_24813_row0_col12\" class=\"data row0 col12\" >0</td>\n",
              "      <td id=\"T_24813_row0_col13\" class=\"data row0 col13\" >0</td>\n",
              "      <td id=\"T_24813_row0_col14\" class=\"data row0 col14\" >0</td>\n",
              "      <td id=\"T_24813_row0_col15\" class=\"data row0 col15\" >0</td>\n",
              "      <td id=\"T_24813_row0_col16\" class=\"data row0 col16\" >0</td>\n",
              "      <td id=\"T_24813_row0_col17\" class=\"data row0 col17\" >0</td>\n",
              "      <td id=\"T_24813_row0_col18\" class=\"data row0 col18\" >0</td>\n",
              "      <td id=\"T_24813_row0_col19\" class=\"data row0 col19\" >0</td>\n",
              "      <td id=\"T_24813_row0_col20\" class=\"data row0 col20\" >0</td>\n",
              "      <td id=\"T_24813_row0_col21\" class=\"data row0 col21\" >0</td>\n",
              "      <td id=\"T_24813_row0_col22\" class=\"data row0 col22\" >0</td>\n",
              "      <td id=\"T_24813_row0_col23\" class=\"data row0 col23\" >0</td>\n",
              "      <td id=\"T_24813_row0_col24\" class=\"data row0 col24\" >0</td>\n",
              "      <td id=\"T_24813_row0_col25\" class=\"data row0 col25\" >0</td>\n",
              "      <td id=\"T_24813_row0_col26\" class=\"data row0 col26\" >0</td>\n",
              "      <td id=\"T_24813_row0_col27\" class=\"data row0 col27\" >0</td>\n",
              "    </tr>\n",
              "    <tr>\n",
              "      <th id=\"T_24813_level0_row1\" class=\"row_heading level0 row1\" >1</th>\n",
              "      <td id=\"T_24813_row1_col0\" class=\"data row1 col0\" >0</td>\n",
              "      <td id=\"T_24813_row1_col1\" class=\"data row1 col1\" >0</td>\n",
              "      <td id=\"T_24813_row1_col2\" class=\"data row1 col2\" >0</td>\n",
              "      <td id=\"T_24813_row1_col3\" class=\"data row1 col3\" >0</td>\n",
              "      <td id=\"T_24813_row1_col4\" class=\"data row1 col4\" >0</td>\n",
              "      <td id=\"T_24813_row1_col5\" class=\"data row1 col5\" >0</td>\n",
              "      <td id=\"T_24813_row1_col6\" class=\"data row1 col6\" >0</td>\n",
              "      <td id=\"T_24813_row1_col7\" class=\"data row1 col7\" >0</td>\n",
              "      <td id=\"T_24813_row1_col8\" class=\"data row1 col8\" >0</td>\n",
              "      <td id=\"T_24813_row1_col9\" class=\"data row1 col9\" >0</td>\n",
              "      <td id=\"T_24813_row1_col10\" class=\"data row1 col10\" >0</td>\n",
              "      <td id=\"T_24813_row1_col11\" class=\"data row1 col11\" >0</td>\n",
              "      <td id=\"T_24813_row1_col12\" class=\"data row1 col12\" >0</td>\n",
              "      <td id=\"T_24813_row1_col13\" class=\"data row1 col13\" >0</td>\n",
              "      <td id=\"T_24813_row1_col14\" class=\"data row1 col14\" >0</td>\n",
              "      <td id=\"T_24813_row1_col15\" class=\"data row1 col15\" >0</td>\n",
              "      <td id=\"T_24813_row1_col16\" class=\"data row1 col16\" >0</td>\n",
              "      <td id=\"T_24813_row1_col17\" class=\"data row1 col17\" >0</td>\n",
              "      <td id=\"T_24813_row1_col18\" class=\"data row1 col18\" >0</td>\n",
              "      <td id=\"T_24813_row1_col19\" class=\"data row1 col19\" >0</td>\n",
              "      <td id=\"T_24813_row1_col20\" class=\"data row1 col20\" >0</td>\n",
              "      <td id=\"T_24813_row1_col21\" class=\"data row1 col21\" >0</td>\n",
              "      <td id=\"T_24813_row1_col22\" class=\"data row1 col22\" >0</td>\n",
              "      <td id=\"T_24813_row1_col23\" class=\"data row1 col23\" >0</td>\n",
              "      <td id=\"T_24813_row1_col24\" class=\"data row1 col24\" >0</td>\n",
              "      <td id=\"T_24813_row1_col25\" class=\"data row1 col25\" >0</td>\n",
              "      <td id=\"T_24813_row1_col26\" class=\"data row1 col26\" >0</td>\n",
              "      <td id=\"T_24813_row1_col27\" class=\"data row1 col27\" >0</td>\n",
              "    </tr>\n",
              "    <tr>\n",
              "      <th id=\"T_24813_level0_row2\" class=\"row_heading level0 row2\" >2</th>\n",
              "      <td id=\"T_24813_row2_col0\" class=\"data row2 col0\" >0</td>\n",
              "      <td id=\"T_24813_row2_col1\" class=\"data row2 col1\" >0</td>\n",
              "      <td id=\"T_24813_row2_col2\" class=\"data row2 col2\" >0</td>\n",
              "      <td id=\"T_24813_row2_col3\" class=\"data row2 col3\" >0</td>\n",
              "      <td id=\"T_24813_row2_col4\" class=\"data row2 col4\" >0</td>\n",
              "      <td id=\"T_24813_row2_col5\" class=\"data row2 col5\" >0</td>\n",
              "      <td id=\"T_24813_row2_col6\" class=\"data row2 col6\" >0</td>\n",
              "      <td id=\"T_24813_row2_col7\" class=\"data row2 col7\" >0</td>\n",
              "      <td id=\"T_24813_row2_col8\" class=\"data row2 col8\" >0</td>\n",
              "      <td id=\"T_24813_row2_col9\" class=\"data row2 col9\" >0</td>\n",
              "      <td id=\"T_24813_row2_col10\" class=\"data row2 col10\" >0</td>\n",
              "      <td id=\"T_24813_row2_col11\" class=\"data row2 col11\" >0</td>\n",
              "      <td id=\"T_24813_row2_col12\" class=\"data row2 col12\" >0</td>\n",
              "      <td id=\"T_24813_row2_col13\" class=\"data row2 col13\" >0</td>\n",
              "      <td id=\"T_24813_row2_col14\" class=\"data row2 col14\" >0</td>\n",
              "      <td id=\"T_24813_row2_col15\" class=\"data row2 col15\" >0</td>\n",
              "      <td id=\"T_24813_row2_col16\" class=\"data row2 col16\" >0</td>\n",
              "      <td id=\"T_24813_row2_col17\" class=\"data row2 col17\" >0</td>\n",
              "      <td id=\"T_24813_row2_col18\" class=\"data row2 col18\" >0</td>\n",
              "      <td id=\"T_24813_row2_col19\" class=\"data row2 col19\" >0</td>\n",
              "      <td id=\"T_24813_row2_col20\" class=\"data row2 col20\" >0</td>\n",
              "      <td id=\"T_24813_row2_col21\" class=\"data row2 col21\" >0</td>\n",
              "      <td id=\"T_24813_row2_col22\" class=\"data row2 col22\" >0</td>\n",
              "      <td id=\"T_24813_row2_col23\" class=\"data row2 col23\" >0</td>\n",
              "      <td id=\"T_24813_row2_col24\" class=\"data row2 col24\" >0</td>\n",
              "      <td id=\"T_24813_row2_col25\" class=\"data row2 col25\" >0</td>\n",
              "      <td id=\"T_24813_row2_col26\" class=\"data row2 col26\" >0</td>\n",
              "      <td id=\"T_24813_row2_col27\" class=\"data row2 col27\" >0</td>\n",
              "    </tr>\n",
              "    <tr>\n",
              "      <th id=\"T_24813_level0_row3\" class=\"row_heading level0 row3\" >3</th>\n",
              "      <td id=\"T_24813_row3_col0\" class=\"data row3 col0\" >0</td>\n",
              "      <td id=\"T_24813_row3_col1\" class=\"data row3 col1\" >0</td>\n",
              "      <td id=\"T_24813_row3_col2\" class=\"data row3 col2\" >0</td>\n",
              "      <td id=\"T_24813_row3_col3\" class=\"data row3 col3\" >0</td>\n",
              "      <td id=\"T_24813_row3_col4\" class=\"data row3 col4\" >0</td>\n",
              "      <td id=\"T_24813_row3_col5\" class=\"data row3 col5\" >0</td>\n",
              "      <td id=\"T_24813_row3_col6\" class=\"data row3 col6\" >0</td>\n",
              "      <td id=\"T_24813_row3_col7\" class=\"data row3 col7\" >0</td>\n",
              "      <td id=\"T_24813_row3_col8\" class=\"data row3 col8\" >0</td>\n",
              "      <td id=\"T_24813_row3_col9\" class=\"data row3 col9\" >0</td>\n",
              "      <td id=\"T_24813_row3_col10\" class=\"data row3 col10\" >0</td>\n",
              "      <td id=\"T_24813_row3_col11\" class=\"data row3 col11\" >0</td>\n",
              "      <td id=\"T_24813_row3_col12\" class=\"data row3 col12\" >0</td>\n",
              "      <td id=\"T_24813_row3_col13\" class=\"data row3 col13\" >0</td>\n",
              "      <td id=\"T_24813_row3_col14\" class=\"data row3 col14\" >0</td>\n",
              "      <td id=\"T_24813_row3_col15\" class=\"data row3 col15\" >0</td>\n",
              "      <td id=\"T_24813_row3_col16\" class=\"data row3 col16\" >0</td>\n",
              "      <td id=\"T_24813_row3_col17\" class=\"data row3 col17\" >0</td>\n",
              "      <td id=\"T_24813_row3_col18\" class=\"data row3 col18\" >0</td>\n",
              "      <td id=\"T_24813_row3_col19\" class=\"data row3 col19\" >0</td>\n",
              "      <td id=\"T_24813_row3_col20\" class=\"data row3 col20\" >0</td>\n",
              "      <td id=\"T_24813_row3_col21\" class=\"data row3 col21\" >0</td>\n",
              "      <td id=\"T_24813_row3_col22\" class=\"data row3 col22\" >0</td>\n",
              "      <td id=\"T_24813_row3_col23\" class=\"data row3 col23\" >0</td>\n",
              "      <td id=\"T_24813_row3_col24\" class=\"data row3 col24\" >0</td>\n",
              "      <td id=\"T_24813_row3_col25\" class=\"data row3 col25\" >0</td>\n",
              "      <td id=\"T_24813_row3_col26\" class=\"data row3 col26\" >0</td>\n",
              "      <td id=\"T_24813_row3_col27\" class=\"data row3 col27\" >0</td>\n",
              "    </tr>\n",
              "    <tr>\n",
              "      <th id=\"T_24813_level0_row4\" class=\"row_heading level0 row4\" >4</th>\n",
              "      <td id=\"T_24813_row4_col0\" class=\"data row4 col0\" >0</td>\n",
              "      <td id=\"T_24813_row4_col1\" class=\"data row4 col1\" >0</td>\n",
              "      <td id=\"T_24813_row4_col2\" class=\"data row4 col2\" >0</td>\n",
              "      <td id=\"T_24813_row4_col3\" class=\"data row4 col3\" >0</td>\n",
              "      <td id=\"T_24813_row4_col4\" class=\"data row4 col4\" >0</td>\n",
              "      <td id=\"T_24813_row4_col5\" class=\"data row4 col5\" >0</td>\n",
              "      <td id=\"T_24813_row4_col6\" class=\"data row4 col6\" >0</td>\n",
              "      <td id=\"T_24813_row4_col7\" class=\"data row4 col7\" >0</td>\n",
              "      <td id=\"T_24813_row4_col8\" class=\"data row4 col8\" >0</td>\n",
              "      <td id=\"T_24813_row4_col9\" class=\"data row4 col9\" >0</td>\n",
              "      <td id=\"T_24813_row4_col10\" class=\"data row4 col10\" >0</td>\n",
              "      <td id=\"T_24813_row4_col11\" class=\"data row4 col11\" >0</td>\n",
              "      <td id=\"T_24813_row4_col12\" class=\"data row4 col12\" >0</td>\n",
              "      <td id=\"T_24813_row4_col13\" class=\"data row4 col13\" >0</td>\n",
              "      <td id=\"T_24813_row4_col14\" class=\"data row4 col14\" >0</td>\n",
              "      <td id=\"T_24813_row4_col15\" class=\"data row4 col15\" >0</td>\n",
              "      <td id=\"T_24813_row4_col16\" class=\"data row4 col16\" >0</td>\n",
              "      <td id=\"T_24813_row4_col17\" class=\"data row4 col17\" >0</td>\n",
              "      <td id=\"T_24813_row4_col18\" class=\"data row4 col18\" >0</td>\n",
              "      <td id=\"T_24813_row4_col19\" class=\"data row4 col19\" >0</td>\n",
              "      <td id=\"T_24813_row4_col20\" class=\"data row4 col20\" >0</td>\n",
              "      <td id=\"T_24813_row4_col21\" class=\"data row4 col21\" >0</td>\n",
              "      <td id=\"T_24813_row4_col22\" class=\"data row4 col22\" >0</td>\n",
              "      <td id=\"T_24813_row4_col23\" class=\"data row4 col23\" >0</td>\n",
              "      <td id=\"T_24813_row4_col24\" class=\"data row4 col24\" >0</td>\n",
              "      <td id=\"T_24813_row4_col25\" class=\"data row4 col25\" >0</td>\n",
              "      <td id=\"T_24813_row4_col26\" class=\"data row4 col26\" >0</td>\n",
              "      <td id=\"T_24813_row4_col27\" class=\"data row4 col27\" >0</td>\n",
              "    </tr>\n",
              "    <tr>\n",
              "      <th id=\"T_24813_level0_row5\" class=\"row_heading level0 row5\" >5</th>\n",
              "      <td id=\"T_24813_row5_col0\" class=\"data row5 col0\" >0</td>\n",
              "      <td id=\"T_24813_row5_col1\" class=\"data row5 col1\" >0</td>\n",
              "      <td id=\"T_24813_row5_col2\" class=\"data row5 col2\" >0</td>\n",
              "      <td id=\"T_24813_row5_col3\" class=\"data row5 col3\" >0</td>\n",
              "      <td id=\"T_24813_row5_col4\" class=\"data row5 col4\" >0</td>\n",
              "      <td id=\"T_24813_row5_col5\" class=\"data row5 col5\" >0</td>\n",
              "      <td id=\"T_24813_row5_col6\" class=\"data row5 col6\" >0</td>\n",
              "      <td id=\"T_24813_row5_col7\" class=\"data row5 col7\" >0</td>\n",
              "      <td id=\"T_24813_row5_col8\" class=\"data row5 col8\" >0</td>\n",
              "      <td id=\"T_24813_row5_col9\" class=\"data row5 col9\" >0</td>\n",
              "      <td id=\"T_24813_row5_col10\" class=\"data row5 col10\" >0</td>\n",
              "      <td id=\"T_24813_row5_col11\" class=\"data row5 col11\" >0</td>\n",
              "      <td id=\"T_24813_row5_col12\" class=\"data row5 col12\" >0</td>\n",
              "      <td id=\"T_24813_row5_col13\" class=\"data row5 col13\" >0</td>\n",
              "      <td id=\"T_24813_row5_col14\" class=\"data row5 col14\" >0</td>\n",
              "      <td id=\"T_24813_row5_col15\" class=\"data row5 col15\" >0</td>\n",
              "      <td id=\"T_24813_row5_col16\" class=\"data row5 col16\" >0</td>\n",
              "      <td id=\"T_24813_row5_col17\" class=\"data row5 col17\" >0</td>\n",
              "      <td id=\"T_24813_row5_col18\" class=\"data row5 col18\" >4</td>\n",
              "      <td id=\"T_24813_row5_col19\" class=\"data row5 col19\" >29</td>\n",
              "      <td id=\"T_24813_row5_col20\" class=\"data row5 col20\" >29</td>\n",
              "      <td id=\"T_24813_row5_col21\" class=\"data row5 col21\" >29</td>\n",
              "      <td id=\"T_24813_row5_col22\" class=\"data row5 col22\" >13</td>\n",
              "      <td id=\"T_24813_row5_col23\" class=\"data row5 col23\" >0</td>\n",
              "      <td id=\"T_24813_row5_col24\" class=\"data row5 col24\" >0</td>\n",
              "      <td id=\"T_24813_row5_col25\" class=\"data row5 col25\" >0</td>\n",
              "      <td id=\"T_24813_row5_col26\" class=\"data row5 col26\" >0</td>\n",
              "      <td id=\"T_24813_row5_col27\" class=\"data row5 col27\" >0</td>\n",
              "    </tr>\n",
              "    <tr>\n",
              "      <th id=\"T_24813_level0_row6\" class=\"row_heading level0 row6\" >6</th>\n",
              "      <td id=\"T_24813_row6_col0\" class=\"data row6 col0\" >0</td>\n",
              "      <td id=\"T_24813_row6_col1\" class=\"data row6 col1\" >0</td>\n",
              "      <td id=\"T_24813_row6_col2\" class=\"data row6 col2\" >0</td>\n",
              "      <td id=\"T_24813_row6_col3\" class=\"data row6 col3\" >0</td>\n",
              "      <td id=\"T_24813_row6_col4\" class=\"data row6 col4\" >0</td>\n",
              "      <td id=\"T_24813_row6_col5\" class=\"data row6 col5\" >0</td>\n",
              "      <td id=\"T_24813_row6_col6\" class=\"data row6 col6\" >0</td>\n",
              "      <td id=\"T_24813_row6_col7\" class=\"data row6 col7\" >0</td>\n",
              "      <td id=\"T_24813_row6_col8\" class=\"data row6 col8\" >0</td>\n",
              "      <td id=\"T_24813_row6_col9\" class=\"data row6 col9\" >0</td>\n",
              "      <td id=\"T_24813_row6_col10\" class=\"data row6 col10\" >0</td>\n",
              "      <td id=\"T_24813_row6_col11\" class=\"data row6 col11\" >0</td>\n",
              "      <td id=\"T_24813_row6_col12\" class=\"data row6 col12\" >0</td>\n",
              "      <td id=\"T_24813_row6_col13\" class=\"data row6 col13\" >0</td>\n",
              "      <td id=\"T_24813_row6_col14\" class=\"data row6 col14\" >0</td>\n",
              "      <td id=\"T_24813_row6_col15\" class=\"data row6 col15\" >0</td>\n",
              "      <td id=\"T_24813_row6_col16\" class=\"data row6 col16\" >0</td>\n",
              "      <td id=\"T_24813_row6_col17\" class=\"data row6 col17\" >51</td>\n",
              "      <td id=\"T_24813_row6_col18\" class=\"data row6 col18\" >179</td>\n",
              "      <td id=\"T_24813_row6_col19\" class=\"data row6 col19\" >252</td>\n",
              "      <td id=\"T_24813_row6_col20\" class=\"data row6 col20\" >252</td>\n",
              "      <td id=\"T_24813_row6_col21\" class=\"data row6 col21\" >252</td>\n",
              "      <td id=\"T_24813_row6_col22\" class=\"data row6 col22\" >207</td>\n",
              "      <td id=\"T_24813_row6_col23\" class=\"data row6 col23\" >169</td>\n",
              "      <td id=\"T_24813_row6_col24\" class=\"data row6 col24\" >169</td>\n",
              "      <td id=\"T_24813_row6_col25\" class=\"data row6 col25\" >44</td>\n",
              "      <td id=\"T_24813_row6_col26\" class=\"data row6 col26\" >0</td>\n",
              "      <td id=\"T_24813_row6_col27\" class=\"data row6 col27\" >0</td>\n",
              "    </tr>\n",
              "    <tr>\n",
              "      <th id=\"T_24813_level0_row7\" class=\"row_heading level0 row7\" >7</th>\n",
              "      <td id=\"T_24813_row7_col0\" class=\"data row7 col0\" >0</td>\n",
              "      <td id=\"T_24813_row7_col1\" class=\"data row7 col1\" >0</td>\n",
              "      <td id=\"T_24813_row7_col2\" class=\"data row7 col2\" >0</td>\n",
              "      <td id=\"T_24813_row7_col3\" class=\"data row7 col3\" >0</td>\n",
              "      <td id=\"T_24813_row7_col4\" class=\"data row7 col4\" >0</td>\n",
              "      <td id=\"T_24813_row7_col5\" class=\"data row7 col5\" >0</td>\n",
              "      <td id=\"T_24813_row7_col6\" class=\"data row7 col6\" >0</td>\n",
              "      <td id=\"T_24813_row7_col7\" class=\"data row7 col7\" >0</td>\n",
              "      <td id=\"T_24813_row7_col8\" class=\"data row7 col8\" >0</td>\n",
              "      <td id=\"T_24813_row7_col9\" class=\"data row7 col9\" >0</td>\n",
              "      <td id=\"T_24813_row7_col10\" class=\"data row7 col10\" >0</td>\n",
              "      <td id=\"T_24813_row7_col11\" class=\"data row7 col11\" >0</td>\n",
              "      <td id=\"T_24813_row7_col12\" class=\"data row7 col12\" >0</td>\n",
              "      <td id=\"T_24813_row7_col13\" class=\"data row7 col13\" >76</td>\n",
              "      <td id=\"T_24813_row7_col14\" class=\"data row7 col14\" >0</td>\n",
              "      <td id=\"T_24813_row7_col15\" class=\"data row7 col15\" >19</td>\n",
              "      <td id=\"T_24813_row7_col16\" class=\"data row7 col16\" >123</td>\n",
              "      <td id=\"T_24813_row7_col17\" class=\"data row7 col17\" >246</td>\n",
              "      <td id=\"T_24813_row7_col18\" class=\"data row7 col18\" >253</td>\n",
              "      <td id=\"T_24813_row7_col19\" class=\"data row7 col19\" >252</td>\n",
              "      <td id=\"T_24813_row7_col20\" class=\"data row7 col20\" >252</td>\n",
              "      <td id=\"T_24813_row7_col21\" class=\"data row7 col21\" >252</td>\n",
              "      <td id=\"T_24813_row7_col22\" class=\"data row7 col22\" >253</td>\n",
              "      <td id=\"T_24813_row7_col23\" class=\"data row7 col23\" >252</td>\n",
              "      <td id=\"T_24813_row7_col24\" class=\"data row7 col24\" >252</td>\n",
              "      <td id=\"T_24813_row7_col25\" class=\"data row7 col25\" >190</td>\n",
              "      <td id=\"T_24813_row7_col26\" class=\"data row7 col26\" >0</td>\n",
              "      <td id=\"T_24813_row7_col27\" class=\"data row7 col27\" >0</td>\n",
              "    </tr>\n",
              "    <tr>\n",
              "      <th id=\"T_24813_level0_row8\" class=\"row_heading level0 row8\" >8</th>\n",
              "      <td id=\"T_24813_row8_col0\" class=\"data row8 col0\" >0</td>\n",
              "      <td id=\"T_24813_row8_col1\" class=\"data row8 col1\" >0</td>\n",
              "      <td id=\"T_24813_row8_col2\" class=\"data row8 col2\" >0</td>\n",
              "      <td id=\"T_24813_row8_col3\" class=\"data row8 col3\" >0</td>\n",
              "      <td id=\"T_24813_row8_col4\" class=\"data row8 col4\" >0</td>\n",
              "      <td id=\"T_24813_row8_col5\" class=\"data row8 col5\" >0</td>\n",
              "      <td id=\"T_24813_row8_col6\" class=\"data row8 col6\" >0</td>\n",
              "      <td id=\"T_24813_row8_col7\" class=\"data row8 col7\" >0</td>\n",
              "      <td id=\"T_24813_row8_col8\" class=\"data row8 col8\" >0</td>\n",
              "      <td id=\"T_24813_row8_col9\" class=\"data row8 col9\" >0</td>\n",
              "      <td id=\"T_24813_row8_col10\" class=\"data row8 col10\" >0</td>\n",
              "      <td id=\"T_24813_row8_col11\" class=\"data row8 col11\" >0</td>\n",
              "      <td id=\"T_24813_row8_col12\" class=\"data row8 col12\" >126</td>\n",
              "      <td id=\"T_24813_row8_col13\" class=\"data row8 col13\" >249</td>\n",
              "      <td id=\"T_24813_row8_col14\" class=\"data row8 col14\" >226</td>\n",
              "      <td id=\"T_24813_row8_col15\" class=\"data row8 col15\" >231</td>\n",
              "      <td id=\"T_24813_row8_col16\" class=\"data row8 col16\" >252</td>\n",
              "      <td id=\"T_24813_row8_col17\" class=\"data row8 col17\" >252</td>\n",
              "      <td id=\"T_24813_row8_col18\" class=\"data row8 col18\" >241</td>\n",
              "      <td id=\"T_24813_row8_col19\" class=\"data row8 col19\" >139</td>\n",
              "      <td id=\"T_24813_row8_col20\" class=\"data row8 col20\" >139</td>\n",
              "      <td id=\"T_24813_row8_col21\" class=\"data row8 col21\" >139</td>\n",
              "      <td id=\"T_24813_row8_col22\" class=\"data row8 col22\" >78</td>\n",
              "      <td id=\"T_24813_row8_col23\" class=\"data row8 col23\" >28</td>\n",
              "      <td id=\"T_24813_row8_col24\" class=\"data row8 col24\" >28</td>\n",
              "      <td id=\"T_24813_row8_col25\" class=\"data row8 col25\" >15</td>\n",
              "      <td id=\"T_24813_row8_col26\" class=\"data row8 col26\" >0</td>\n",
              "      <td id=\"T_24813_row8_col27\" class=\"data row8 col27\" >0</td>\n",
              "    </tr>\n",
              "    <tr>\n",
              "      <th id=\"T_24813_level0_row9\" class=\"row_heading level0 row9\" >9</th>\n",
              "      <td id=\"T_24813_row9_col0\" class=\"data row9 col0\" >0</td>\n",
              "      <td id=\"T_24813_row9_col1\" class=\"data row9 col1\" >0</td>\n",
              "      <td id=\"T_24813_row9_col2\" class=\"data row9 col2\" >0</td>\n",
              "      <td id=\"T_24813_row9_col3\" class=\"data row9 col3\" >0</td>\n",
              "      <td id=\"T_24813_row9_col4\" class=\"data row9 col4\" >0</td>\n",
              "      <td id=\"T_24813_row9_col5\" class=\"data row9 col5\" >0</td>\n",
              "      <td id=\"T_24813_row9_col6\" class=\"data row9 col6\" >0</td>\n",
              "      <td id=\"T_24813_row9_col7\" class=\"data row9 col7\" >0</td>\n",
              "      <td id=\"T_24813_row9_col8\" class=\"data row9 col8\" >0</td>\n",
              "      <td id=\"T_24813_row9_col9\" class=\"data row9 col9\" >0</td>\n",
              "      <td id=\"T_24813_row9_col10\" class=\"data row9 col10\" >0</td>\n",
              "      <td id=\"T_24813_row9_col11\" class=\"data row9 col11\" >70</td>\n",
              "      <td id=\"T_24813_row9_col12\" class=\"data row9 col12\" >253</td>\n",
              "      <td id=\"T_24813_row9_col13\" class=\"data row9 col13\" >253</td>\n",
              "      <td id=\"T_24813_row9_col14\" class=\"data row9 col14\" >255</td>\n",
              "      <td id=\"T_24813_row9_col15\" class=\"data row9 col15\" >247</td>\n",
              "      <td id=\"T_24813_row9_col16\" class=\"data row9 col16\" >225</td>\n",
              "      <td id=\"T_24813_row9_col17\" class=\"data row9 col17\" >125</td>\n",
              "      <td id=\"T_24813_row9_col18\" class=\"data row9 col18\" >51</td>\n",
              "      <td id=\"T_24813_row9_col19\" class=\"data row9 col19\" >0</td>\n",
              "      <td id=\"T_24813_row9_col20\" class=\"data row9 col20\" >0</td>\n",
              "      <td id=\"T_24813_row9_col21\" class=\"data row9 col21\" >0</td>\n",
              "      <td id=\"T_24813_row9_col22\" class=\"data row9 col22\" >0</td>\n",
              "      <td id=\"T_24813_row9_col23\" class=\"data row9 col23\" >0</td>\n",
              "      <td id=\"T_24813_row9_col24\" class=\"data row9 col24\" >0</td>\n",
              "      <td id=\"T_24813_row9_col25\" class=\"data row9 col25\" >0</td>\n",
              "      <td id=\"T_24813_row9_col26\" class=\"data row9 col26\" >0</td>\n",
              "      <td id=\"T_24813_row9_col27\" class=\"data row9 col27\" >0</td>\n",
              "    </tr>\n",
              "    <tr>\n",
              "      <th id=\"T_24813_level0_row10\" class=\"row_heading level0 row10\" >10</th>\n",
              "      <td id=\"T_24813_row10_col0\" class=\"data row10 col0\" >0</td>\n",
              "      <td id=\"T_24813_row10_col1\" class=\"data row10 col1\" >0</td>\n",
              "      <td id=\"T_24813_row10_col2\" class=\"data row10 col2\" >0</td>\n",
              "      <td id=\"T_24813_row10_col3\" class=\"data row10 col3\" >0</td>\n",
              "      <td id=\"T_24813_row10_col4\" class=\"data row10 col4\" >0</td>\n",
              "      <td id=\"T_24813_row10_col5\" class=\"data row10 col5\" >0</td>\n",
              "      <td id=\"T_24813_row10_col6\" class=\"data row10 col6\" >0</td>\n",
              "      <td id=\"T_24813_row10_col7\" class=\"data row10 col7\" >0</td>\n",
              "      <td id=\"T_24813_row10_col8\" class=\"data row10 col8\" >0</td>\n",
              "      <td id=\"T_24813_row10_col9\" class=\"data row10 col9\" >0</td>\n",
              "      <td id=\"T_24813_row10_col10\" class=\"data row10 col10\" >45</td>\n",
              "      <td id=\"T_24813_row10_col11\" class=\"data row10 col11\" >225</td>\n",
              "      <td id=\"T_24813_row10_col12\" class=\"data row10 col12\" >252</td>\n",
              "      <td id=\"T_24813_row10_col13\" class=\"data row10 col13\" >151</td>\n",
              "      <td id=\"T_24813_row10_col14\" class=\"data row10 col14\" >84</td>\n",
              "      <td id=\"T_24813_row10_col15\" class=\"data row10 col15\" >65</td>\n",
              "      <td id=\"T_24813_row10_col16\" class=\"data row10 col16\" >0</td>\n",
              "      <td id=\"T_24813_row10_col17\" class=\"data row10 col17\" >0</td>\n",
              "      <td id=\"T_24813_row10_col18\" class=\"data row10 col18\" >0</td>\n",
              "      <td id=\"T_24813_row10_col19\" class=\"data row10 col19\" >0</td>\n",
              "      <td id=\"T_24813_row10_col20\" class=\"data row10 col20\" >0</td>\n",
              "      <td id=\"T_24813_row10_col21\" class=\"data row10 col21\" >0</td>\n",
              "      <td id=\"T_24813_row10_col22\" class=\"data row10 col22\" >0</td>\n",
              "      <td id=\"T_24813_row10_col23\" class=\"data row10 col23\" >0</td>\n",
              "      <td id=\"T_24813_row10_col24\" class=\"data row10 col24\" >0</td>\n",
              "      <td id=\"T_24813_row10_col25\" class=\"data row10 col25\" >0</td>\n",
              "      <td id=\"T_24813_row10_col26\" class=\"data row10 col26\" >0</td>\n",
              "      <td id=\"T_24813_row10_col27\" class=\"data row10 col27\" >0</td>\n",
              "    </tr>\n",
              "    <tr>\n",
              "      <th id=\"T_24813_level0_row11\" class=\"row_heading level0 row11\" >11</th>\n",
              "      <td id=\"T_24813_row11_col0\" class=\"data row11 col0\" >0</td>\n",
              "      <td id=\"T_24813_row11_col1\" class=\"data row11 col1\" >0</td>\n",
              "      <td id=\"T_24813_row11_col2\" class=\"data row11 col2\" >0</td>\n",
              "      <td id=\"T_24813_row11_col3\" class=\"data row11 col3\" >0</td>\n",
              "      <td id=\"T_24813_row11_col4\" class=\"data row11 col4\" >0</td>\n",
              "      <td id=\"T_24813_row11_col5\" class=\"data row11 col5\" >0</td>\n",
              "      <td id=\"T_24813_row11_col6\" class=\"data row11 col6\" >0</td>\n",
              "      <td id=\"T_24813_row11_col7\" class=\"data row11 col7\" >0</td>\n",
              "      <td id=\"T_24813_row11_col8\" class=\"data row11 col8\" >0</td>\n",
              "      <td id=\"T_24813_row11_col9\" class=\"data row11 col9\" >0</td>\n",
              "      <td id=\"T_24813_row11_col10\" class=\"data row11 col10\" >141</td>\n",
              "      <td id=\"T_24813_row11_col11\" class=\"data row11 col11\" >252</td>\n",
              "      <td id=\"T_24813_row11_col12\" class=\"data row11 col12\" >186</td>\n",
              "      <td id=\"T_24813_row11_col13\" class=\"data row11 col13\" >6</td>\n",
              "      <td id=\"T_24813_row11_col14\" class=\"data row11 col14\" >0</td>\n",
              "      <td id=\"T_24813_row11_col15\" class=\"data row11 col15\" >0</td>\n",
              "      <td id=\"T_24813_row11_col16\" class=\"data row11 col16\" >0</td>\n",
              "      <td id=\"T_24813_row11_col17\" class=\"data row11 col17\" >0</td>\n",
              "      <td id=\"T_24813_row11_col18\" class=\"data row11 col18\" >0</td>\n",
              "      <td id=\"T_24813_row11_col19\" class=\"data row11 col19\" >0</td>\n",
              "      <td id=\"T_24813_row11_col20\" class=\"data row11 col20\" >0</td>\n",
              "      <td id=\"T_24813_row11_col21\" class=\"data row11 col21\" >0</td>\n",
              "      <td id=\"T_24813_row11_col22\" class=\"data row11 col22\" >0</td>\n",
              "      <td id=\"T_24813_row11_col23\" class=\"data row11 col23\" >0</td>\n",
              "      <td id=\"T_24813_row11_col24\" class=\"data row11 col24\" >0</td>\n",
              "      <td id=\"T_24813_row11_col25\" class=\"data row11 col25\" >0</td>\n",
              "      <td id=\"T_24813_row11_col26\" class=\"data row11 col26\" >0</td>\n",
              "      <td id=\"T_24813_row11_col27\" class=\"data row11 col27\" >0</td>\n",
              "    </tr>\n",
              "    <tr>\n",
              "      <th id=\"T_24813_level0_row12\" class=\"row_heading level0 row12\" >12</th>\n",
              "      <td id=\"T_24813_row12_col0\" class=\"data row12 col0\" >0</td>\n",
              "      <td id=\"T_24813_row12_col1\" class=\"data row12 col1\" >0</td>\n",
              "      <td id=\"T_24813_row12_col2\" class=\"data row12 col2\" >0</td>\n",
              "      <td id=\"T_24813_row12_col3\" class=\"data row12 col3\" >0</td>\n",
              "      <td id=\"T_24813_row12_col4\" class=\"data row12 col4\" >0</td>\n",
              "      <td id=\"T_24813_row12_col5\" class=\"data row12 col5\" >0</td>\n",
              "      <td id=\"T_24813_row12_col6\" class=\"data row12 col6\" >0</td>\n",
              "      <td id=\"T_24813_row12_col7\" class=\"data row12 col7\" >0</td>\n",
              "      <td id=\"T_24813_row12_col8\" class=\"data row12 col8\" >0</td>\n",
              "      <td id=\"T_24813_row12_col9\" class=\"data row12 col9\" >0</td>\n",
              "      <td id=\"T_24813_row12_col10\" class=\"data row12 col10\" >91</td>\n",
              "      <td id=\"T_24813_row12_col11\" class=\"data row12 col11\" >252</td>\n",
              "      <td id=\"T_24813_row12_col12\" class=\"data row12 col12\" >205</td>\n",
              "      <td id=\"T_24813_row12_col13\" class=\"data row12 col13\" >13</td>\n",
              "      <td id=\"T_24813_row12_col14\" class=\"data row12 col14\" >0</td>\n",
              "      <td id=\"T_24813_row12_col15\" class=\"data row12 col15\" >0</td>\n",
              "      <td id=\"T_24813_row12_col16\" class=\"data row12 col16\" >0</td>\n",
              "      <td id=\"T_24813_row12_col17\" class=\"data row12 col17\" >0</td>\n",
              "      <td id=\"T_24813_row12_col18\" class=\"data row12 col18\" >0</td>\n",
              "      <td id=\"T_24813_row12_col19\" class=\"data row12 col19\" >0</td>\n",
              "      <td id=\"T_24813_row12_col20\" class=\"data row12 col20\" >0</td>\n",
              "      <td id=\"T_24813_row12_col21\" class=\"data row12 col21\" >0</td>\n",
              "      <td id=\"T_24813_row12_col22\" class=\"data row12 col22\" >0</td>\n",
              "      <td id=\"T_24813_row12_col23\" class=\"data row12 col23\" >0</td>\n",
              "      <td id=\"T_24813_row12_col24\" class=\"data row12 col24\" >0</td>\n",
              "      <td id=\"T_24813_row12_col25\" class=\"data row12 col25\" >0</td>\n",
              "      <td id=\"T_24813_row12_col26\" class=\"data row12 col26\" >0</td>\n",
              "      <td id=\"T_24813_row12_col27\" class=\"data row12 col27\" >0</td>\n",
              "    </tr>\n",
              "    <tr>\n",
              "      <th id=\"T_24813_level0_row13\" class=\"row_heading level0 row13\" >13</th>\n",
              "      <td id=\"T_24813_row13_col0\" class=\"data row13 col0\" >0</td>\n",
              "      <td id=\"T_24813_row13_col1\" class=\"data row13 col1\" >0</td>\n",
              "      <td id=\"T_24813_row13_col2\" class=\"data row13 col2\" >0</td>\n",
              "      <td id=\"T_24813_row13_col3\" class=\"data row13 col3\" >0</td>\n",
              "      <td id=\"T_24813_row13_col4\" class=\"data row13 col4\" >0</td>\n",
              "      <td id=\"T_24813_row13_col5\" class=\"data row13 col5\" >0</td>\n",
              "      <td id=\"T_24813_row13_col6\" class=\"data row13 col6\" >0</td>\n",
              "      <td id=\"T_24813_row13_col7\" class=\"data row13 col7\" >0</td>\n",
              "      <td id=\"T_24813_row13_col8\" class=\"data row13 col8\" >0</td>\n",
              "      <td id=\"T_24813_row13_col9\" class=\"data row13 col9\" >0</td>\n",
              "      <td id=\"T_24813_row13_col10\" class=\"data row13 col10\" >13</td>\n",
              "      <td id=\"T_24813_row13_col11\" class=\"data row13 col11\" >194</td>\n",
              "      <td id=\"T_24813_row13_col12\" class=\"data row13 col12\" >253</td>\n",
              "      <td id=\"T_24813_row13_col13\" class=\"data row13 col13\" >103</td>\n",
              "      <td id=\"T_24813_row13_col14\" class=\"data row13 col14\" >0</td>\n",
              "      <td id=\"T_24813_row13_col15\" class=\"data row13 col15\" >0</td>\n",
              "      <td id=\"T_24813_row13_col16\" class=\"data row13 col16\" >0</td>\n",
              "      <td id=\"T_24813_row13_col17\" class=\"data row13 col17\" >0</td>\n",
              "      <td id=\"T_24813_row13_col18\" class=\"data row13 col18\" >0</td>\n",
              "      <td id=\"T_24813_row13_col19\" class=\"data row13 col19\" >0</td>\n",
              "      <td id=\"T_24813_row13_col20\" class=\"data row13 col20\" >0</td>\n",
              "      <td id=\"T_24813_row13_col21\" class=\"data row13 col21\" >0</td>\n",
              "      <td id=\"T_24813_row13_col22\" class=\"data row13 col22\" >0</td>\n",
              "      <td id=\"T_24813_row13_col23\" class=\"data row13 col23\" >0</td>\n",
              "      <td id=\"T_24813_row13_col24\" class=\"data row13 col24\" >0</td>\n",
              "      <td id=\"T_24813_row13_col25\" class=\"data row13 col25\" >0</td>\n",
              "      <td id=\"T_24813_row13_col26\" class=\"data row13 col26\" >0</td>\n",
              "      <td id=\"T_24813_row13_col27\" class=\"data row13 col27\" >0</td>\n",
              "    </tr>\n",
              "    <tr>\n",
              "      <th id=\"T_24813_level0_row14\" class=\"row_heading level0 row14\" >14</th>\n",
              "      <td id=\"T_24813_row14_col0\" class=\"data row14 col0\" >0</td>\n",
              "      <td id=\"T_24813_row14_col1\" class=\"data row14 col1\" >0</td>\n",
              "      <td id=\"T_24813_row14_col2\" class=\"data row14 col2\" >0</td>\n",
              "      <td id=\"T_24813_row14_col3\" class=\"data row14 col3\" >0</td>\n",
              "      <td id=\"T_24813_row14_col4\" class=\"data row14 col4\" >0</td>\n",
              "      <td id=\"T_24813_row14_col5\" class=\"data row14 col5\" >0</td>\n",
              "      <td id=\"T_24813_row14_col6\" class=\"data row14 col6\" >0</td>\n",
              "      <td id=\"T_24813_row14_col7\" class=\"data row14 col7\" >0</td>\n",
              "      <td id=\"T_24813_row14_col8\" class=\"data row14 col8\" >0</td>\n",
              "      <td id=\"T_24813_row14_col9\" class=\"data row14 col9\" >0</td>\n",
              "      <td id=\"T_24813_row14_col10\" class=\"data row14 col10\" >0</td>\n",
              "      <td id=\"T_24813_row14_col11\" class=\"data row14 col11\" >44</td>\n",
              "      <td id=\"T_24813_row14_col12\" class=\"data row14 col12\" >215</td>\n",
              "      <td id=\"T_24813_row14_col13\" class=\"data row14 col13\" >252</td>\n",
              "      <td id=\"T_24813_row14_col14\" class=\"data row14 col14\" >101</td>\n",
              "      <td id=\"T_24813_row14_col15\" class=\"data row14 col15\" >0</td>\n",
              "      <td id=\"T_24813_row14_col16\" class=\"data row14 col16\" >0</td>\n",
              "      <td id=\"T_24813_row14_col17\" class=\"data row14 col17\" >0</td>\n",
              "      <td id=\"T_24813_row14_col18\" class=\"data row14 col18\" >0</td>\n",
              "      <td id=\"T_24813_row14_col19\" class=\"data row14 col19\" >0</td>\n",
              "      <td id=\"T_24813_row14_col20\" class=\"data row14 col20\" >0</td>\n",
              "      <td id=\"T_24813_row14_col21\" class=\"data row14 col21\" >0</td>\n",
              "      <td id=\"T_24813_row14_col22\" class=\"data row14 col22\" >0</td>\n",
              "      <td id=\"T_24813_row14_col23\" class=\"data row14 col23\" >0</td>\n",
              "      <td id=\"T_24813_row14_col24\" class=\"data row14 col24\" >0</td>\n",
              "      <td id=\"T_24813_row14_col25\" class=\"data row14 col25\" >0</td>\n",
              "      <td id=\"T_24813_row14_col26\" class=\"data row14 col26\" >0</td>\n",
              "      <td id=\"T_24813_row14_col27\" class=\"data row14 col27\" >0</td>\n",
              "    </tr>\n",
              "    <tr>\n",
              "      <th id=\"T_24813_level0_row15\" class=\"row_heading level0 row15\" >15</th>\n",
              "      <td id=\"T_24813_row15_col0\" class=\"data row15 col0\" >0</td>\n",
              "      <td id=\"T_24813_row15_col1\" class=\"data row15 col1\" >0</td>\n",
              "      <td id=\"T_24813_row15_col2\" class=\"data row15 col2\" >0</td>\n",
              "      <td id=\"T_24813_row15_col3\" class=\"data row15 col3\" >0</td>\n",
              "      <td id=\"T_24813_row15_col4\" class=\"data row15 col4\" >0</td>\n",
              "      <td id=\"T_24813_row15_col5\" class=\"data row15 col5\" >0</td>\n",
              "      <td id=\"T_24813_row15_col6\" class=\"data row15 col6\" >0</td>\n",
              "      <td id=\"T_24813_row15_col7\" class=\"data row15 col7\" >0</td>\n",
              "      <td id=\"T_24813_row15_col8\" class=\"data row15 col8\" >0</td>\n",
              "      <td id=\"T_24813_row15_col9\" class=\"data row15 col9\" >0</td>\n",
              "      <td id=\"T_24813_row15_col10\" class=\"data row15 col10\" >0</td>\n",
              "      <td id=\"T_24813_row15_col11\" class=\"data row15 col11\" >0</td>\n",
              "      <td id=\"T_24813_row15_col12\" class=\"data row15 col12\" >19</td>\n",
              "      <td id=\"T_24813_row15_col13\" class=\"data row15 col13\" >231</td>\n",
              "      <td id=\"T_24813_row15_col14\" class=\"data row15 col14\" >247</td>\n",
              "      <td id=\"T_24813_row15_col15\" class=\"data row15 col15\" >66</td>\n",
              "      <td id=\"T_24813_row15_col16\" class=\"data row15 col16\" >0</td>\n",
              "      <td id=\"T_24813_row15_col17\" class=\"data row15 col17\" >0</td>\n",
              "      <td id=\"T_24813_row15_col18\" class=\"data row15 col18\" >0</td>\n",
              "      <td id=\"T_24813_row15_col19\" class=\"data row15 col19\" >0</td>\n",
              "      <td id=\"T_24813_row15_col20\" class=\"data row15 col20\" >0</td>\n",
              "      <td id=\"T_24813_row15_col21\" class=\"data row15 col21\" >0</td>\n",
              "      <td id=\"T_24813_row15_col22\" class=\"data row15 col22\" >0</td>\n",
              "      <td id=\"T_24813_row15_col23\" class=\"data row15 col23\" >0</td>\n",
              "      <td id=\"T_24813_row15_col24\" class=\"data row15 col24\" >0</td>\n",
              "      <td id=\"T_24813_row15_col25\" class=\"data row15 col25\" >0</td>\n",
              "      <td id=\"T_24813_row15_col26\" class=\"data row15 col26\" >0</td>\n",
              "      <td id=\"T_24813_row15_col27\" class=\"data row15 col27\" >0</td>\n",
              "    </tr>\n",
              "    <tr>\n",
              "      <th id=\"T_24813_level0_row16\" class=\"row_heading level0 row16\" >16</th>\n",
              "      <td id=\"T_24813_row16_col0\" class=\"data row16 col0\" >0</td>\n",
              "      <td id=\"T_24813_row16_col1\" class=\"data row16 col1\" >0</td>\n",
              "      <td id=\"T_24813_row16_col2\" class=\"data row16 col2\" >0</td>\n",
              "      <td id=\"T_24813_row16_col3\" class=\"data row16 col3\" >0</td>\n",
              "      <td id=\"T_24813_row16_col4\" class=\"data row16 col4\" >0</td>\n",
              "      <td id=\"T_24813_row16_col5\" class=\"data row16 col5\" >0</td>\n",
              "      <td id=\"T_24813_row16_col6\" class=\"data row16 col6\" >0</td>\n",
              "      <td id=\"T_24813_row16_col7\" class=\"data row16 col7\" >0</td>\n",
              "      <td id=\"T_24813_row16_col8\" class=\"data row16 col8\" >0</td>\n",
              "      <td id=\"T_24813_row16_col9\" class=\"data row16 col9\" >0</td>\n",
              "      <td id=\"T_24813_row16_col10\" class=\"data row16 col10\" >0</td>\n",
              "      <td id=\"T_24813_row16_col11\" class=\"data row16 col11\" >0</td>\n",
              "      <td id=\"T_24813_row16_col12\" class=\"data row16 col12\" >0</td>\n",
              "      <td id=\"T_24813_row16_col13\" class=\"data row16 col13\" >75</td>\n",
              "      <td id=\"T_24813_row16_col14\" class=\"data row16 col14\" >253</td>\n",
              "      <td id=\"T_24813_row16_col15\" class=\"data row16 col15\" >184</td>\n",
              "      <td id=\"T_24813_row16_col16\" class=\"data row16 col16\" >0</td>\n",
              "      <td id=\"T_24813_row16_col17\" class=\"data row16 col17\" >0</td>\n",
              "      <td id=\"T_24813_row16_col18\" class=\"data row16 col18\" >0</td>\n",
              "      <td id=\"T_24813_row16_col19\" class=\"data row16 col19\" >0</td>\n",
              "      <td id=\"T_24813_row16_col20\" class=\"data row16 col20\" >0</td>\n",
              "      <td id=\"T_24813_row16_col21\" class=\"data row16 col21\" >0</td>\n",
              "      <td id=\"T_24813_row16_col22\" class=\"data row16 col22\" >0</td>\n",
              "      <td id=\"T_24813_row16_col23\" class=\"data row16 col23\" >0</td>\n",
              "      <td id=\"T_24813_row16_col24\" class=\"data row16 col24\" >0</td>\n",
              "      <td id=\"T_24813_row16_col25\" class=\"data row16 col25\" >0</td>\n",
              "      <td id=\"T_24813_row16_col26\" class=\"data row16 col26\" >0</td>\n",
              "      <td id=\"T_24813_row16_col27\" class=\"data row16 col27\" >0</td>\n",
              "    </tr>\n",
              "    <tr>\n",
              "      <th id=\"T_24813_level0_row17\" class=\"row_heading level0 row17\" >17</th>\n",
              "      <td id=\"T_24813_row17_col0\" class=\"data row17 col0\" >0</td>\n",
              "      <td id=\"T_24813_row17_col1\" class=\"data row17 col1\" >0</td>\n",
              "      <td id=\"T_24813_row17_col2\" class=\"data row17 col2\" >0</td>\n",
              "      <td id=\"T_24813_row17_col3\" class=\"data row17 col3\" >0</td>\n",
              "      <td id=\"T_24813_row17_col4\" class=\"data row17 col4\" >0</td>\n",
              "      <td id=\"T_24813_row17_col5\" class=\"data row17 col5\" >0</td>\n",
              "      <td id=\"T_24813_row17_col6\" class=\"data row17 col6\" >141</td>\n",
              "      <td id=\"T_24813_row17_col7\" class=\"data row17 col7\" >60</td>\n",
              "      <td id=\"T_24813_row17_col8\" class=\"data row17 col8\" >0</td>\n",
              "      <td id=\"T_24813_row17_col9\" class=\"data row17 col9\" >0</td>\n",
              "      <td id=\"T_24813_row17_col10\" class=\"data row17 col10\" >0</td>\n",
              "      <td id=\"T_24813_row17_col11\" class=\"data row17 col11\" >0</td>\n",
              "      <td id=\"T_24813_row17_col12\" class=\"data row17 col12\" >0</td>\n",
              "      <td id=\"T_24813_row17_col13\" class=\"data row17 col13\" >0</td>\n",
              "      <td id=\"T_24813_row17_col14\" class=\"data row17 col14\" >141</td>\n",
              "      <td id=\"T_24813_row17_col15\" class=\"data row17 col15\" >253</td>\n",
              "      <td id=\"T_24813_row17_col16\" class=\"data row17 col16\" >119</td>\n",
              "      <td id=\"T_24813_row17_col17\" class=\"data row17 col17\" >0</td>\n",
              "      <td id=\"T_24813_row17_col18\" class=\"data row17 col18\" >0</td>\n",
              "      <td id=\"T_24813_row17_col19\" class=\"data row17 col19\" >0</td>\n",
              "      <td id=\"T_24813_row17_col20\" class=\"data row17 col20\" >0</td>\n",
              "      <td id=\"T_24813_row17_col21\" class=\"data row17 col21\" >0</td>\n",
              "      <td id=\"T_24813_row17_col22\" class=\"data row17 col22\" >0</td>\n",
              "      <td id=\"T_24813_row17_col23\" class=\"data row17 col23\" >0</td>\n",
              "      <td id=\"T_24813_row17_col24\" class=\"data row17 col24\" >0</td>\n",
              "      <td id=\"T_24813_row17_col25\" class=\"data row17 col25\" >0</td>\n",
              "      <td id=\"T_24813_row17_col26\" class=\"data row17 col26\" >0</td>\n",
              "      <td id=\"T_24813_row17_col27\" class=\"data row17 col27\" >0</td>\n",
              "    </tr>\n",
              "    <tr>\n",
              "      <th id=\"T_24813_level0_row18\" class=\"row_heading level0 row18\" >18</th>\n",
              "      <td id=\"T_24813_row18_col0\" class=\"data row18 col0\" >0</td>\n",
              "      <td id=\"T_24813_row18_col1\" class=\"data row18 col1\" >0</td>\n",
              "      <td id=\"T_24813_row18_col2\" class=\"data row18 col2\" >0</td>\n",
              "      <td id=\"T_24813_row18_col3\" class=\"data row18 col3\" >0</td>\n",
              "      <td id=\"T_24813_row18_col4\" class=\"data row18 col4\" >0</td>\n",
              "      <td id=\"T_24813_row18_col5\" class=\"data row18 col5\" >0</td>\n",
              "      <td id=\"T_24813_row18_col6\" class=\"data row18 col6\" >253</td>\n",
              "      <td id=\"T_24813_row18_col7\" class=\"data row18 col7\" >196</td>\n",
              "      <td id=\"T_24813_row18_col8\" class=\"data row18 col8\" >0</td>\n",
              "      <td id=\"T_24813_row18_col9\" class=\"data row18 col9\" >0</td>\n",
              "      <td id=\"T_24813_row18_col10\" class=\"data row18 col10\" >0</td>\n",
              "      <td id=\"T_24813_row18_col11\" class=\"data row18 col11\" >0</td>\n",
              "      <td id=\"T_24813_row18_col12\" class=\"data row18 col12\" >0</td>\n",
              "      <td id=\"T_24813_row18_col13\" class=\"data row18 col13\" >0</td>\n",
              "      <td id=\"T_24813_row18_col14\" class=\"data row18 col14\" >66</td>\n",
              "      <td id=\"T_24813_row18_col15\" class=\"data row18 col15\" >252</td>\n",
              "      <td id=\"T_24813_row18_col16\" class=\"data row18 col16\" >187</td>\n",
              "      <td id=\"T_24813_row18_col17\" class=\"data row18 col17\" >7</td>\n",
              "      <td id=\"T_24813_row18_col18\" class=\"data row18 col18\" >0</td>\n",
              "      <td id=\"T_24813_row18_col19\" class=\"data row18 col19\" >0</td>\n",
              "      <td id=\"T_24813_row18_col20\" class=\"data row18 col20\" >0</td>\n",
              "      <td id=\"T_24813_row18_col21\" class=\"data row18 col21\" >0</td>\n",
              "      <td id=\"T_24813_row18_col22\" class=\"data row18 col22\" >0</td>\n",
              "      <td id=\"T_24813_row18_col23\" class=\"data row18 col23\" >0</td>\n",
              "      <td id=\"T_24813_row18_col24\" class=\"data row18 col24\" >0</td>\n",
              "      <td id=\"T_24813_row18_col25\" class=\"data row18 col25\" >0</td>\n",
              "      <td id=\"T_24813_row18_col26\" class=\"data row18 col26\" >0</td>\n",
              "      <td id=\"T_24813_row18_col27\" class=\"data row18 col27\" >0</td>\n",
              "    </tr>\n",
              "    <tr>\n",
              "      <th id=\"T_24813_level0_row19\" class=\"row_heading level0 row19\" >19</th>\n",
              "      <td id=\"T_24813_row19_col0\" class=\"data row19 col0\" >0</td>\n",
              "      <td id=\"T_24813_row19_col1\" class=\"data row19 col1\" >0</td>\n",
              "      <td id=\"T_24813_row19_col2\" class=\"data row19 col2\" >0</td>\n",
              "      <td id=\"T_24813_row19_col3\" class=\"data row19 col3\" >0</td>\n",
              "      <td id=\"T_24813_row19_col4\" class=\"data row19 col4\" >0</td>\n",
              "      <td id=\"T_24813_row19_col5\" class=\"data row19 col5\" >0</td>\n",
              "      <td id=\"T_24813_row19_col6\" class=\"data row19 col6\" >253</td>\n",
              "      <td id=\"T_24813_row19_col7\" class=\"data row19 col7\" >215</td>\n",
              "      <td id=\"T_24813_row19_col8\" class=\"data row19 col8\" >19</td>\n",
              "      <td id=\"T_24813_row19_col9\" class=\"data row19 col9\" >0</td>\n",
              "      <td id=\"T_24813_row19_col10\" class=\"data row19 col10\" >0</td>\n",
              "      <td id=\"T_24813_row19_col11\" class=\"data row19 col11\" >0</td>\n",
              "      <td id=\"T_24813_row19_col12\" class=\"data row19 col12\" >0</td>\n",
              "      <td id=\"T_24813_row19_col13\" class=\"data row19 col13\" >0</td>\n",
              "      <td id=\"T_24813_row19_col14\" class=\"data row19 col14\" >66</td>\n",
              "      <td id=\"T_24813_row19_col15\" class=\"data row19 col15\" >252</td>\n",
              "      <td id=\"T_24813_row19_col16\" class=\"data row19 col16\" >224</td>\n",
              "      <td id=\"T_24813_row19_col17\" class=\"data row19 col17\" >19</td>\n",
              "      <td id=\"T_24813_row19_col18\" class=\"data row19 col18\" >0</td>\n",
              "      <td id=\"T_24813_row19_col19\" class=\"data row19 col19\" >0</td>\n",
              "      <td id=\"T_24813_row19_col20\" class=\"data row19 col20\" >0</td>\n",
              "      <td id=\"T_24813_row19_col21\" class=\"data row19 col21\" >0</td>\n",
              "      <td id=\"T_24813_row19_col22\" class=\"data row19 col22\" >0</td>\n",
              "      <td id=\"T_24813_row19_col23\" class=\"data row19 col23\" >0</td>\n",
              "      <td id=\"T_24813_row19_col24\" class=\"data row19 col24\" >0</td>\n",
              "      <td id=\"T_24813_row19_col25\" class=\"data row19 col25\" >0</td>\n",
              "      <td id=\"T_24813_row19_col26\" class=\"data row19 col26\" >0</td>\n",
              "      <td id=\"T_24813_row19_col27\" class=\"data row19 col27\" >0</td>\n",
              "    </tr>\n",
              "    <tr>\n",
              "      <th id=\"T_24813_level0_row20\" class=\"row_heading level0 row20\" >20</th>\n",
              "      <td id=\"T_24813_row20_col0\" class=\"data row20 col0\" >0</td>\n",
              "      <td id=\"T_24813_row20_col1\" class=\"data row20 col1\" >0</td>\n",
              "      <td id=\"T_24813_row20_col2\" class=\"data row20 col2\" >0</td>\n",
              "      <td id=\"T_24813_row20_col3\" class=\"data row20 col3\" >0</td>\n",
              "      <td id=\"T_24813_row20_col4\" class=\"data row20 col4\" >0</td>\n",
              "      <td id=\"T_24813_row20_col5\" class=\"data row20 col5\" >0</td>\n",
              "      <td id=\"T_24813_row20_col6\" class=\"data row20 col6\" >153</td>\n",
              "      <td id=\"T_24813_row20_col7\" class=\"data row20 col7\" >252</td>\n",
              "      <td id=\"T_24813_row20_col8\" class=\"data row20 col8\" >193</td>\n",
              "      <td id=\"T_24813_row20_col9\" class=\"data row20 col9\" >13</td>\n",
              "      <td id=\"T_24813_row20_col10\" class=\"data row20 col10\" >0</td>\n",
              "      <td id=\"T_24813_row20_col11\" class=\"data row20 col11\" >0</td>\n",
              "      <td id=\"T_24813_row20_col12\" class=\"data row20 col12\" >0</td>\n",
              "      <td id=\"T_24813_row20_col13\" class=\"data row20 col13\" >0</td>\n",
              "      <td id=\"T_24813_row20_col14\" class=\"data row20 col14\" >141</td>\n",
              "      <td id=\"T_24813_row20_col15\" class=\"data row20 col15\" >252</td>\n",
              "      <td id=\"T_24813_row20_col16\" class=\"data row20 col16\" >168</td>\n",
              "      <td id=\"T_24813_row20_col17\" class=\"data row20 col17\" >0</td>\n",
              "      <td id=\"T_24813_row20_col18\" class=\"data row20 col18\" >0</td>\n",
              "      <td id=\"T_24813_row20_col19\" class=\"data row20 col19\" >0</td>\n",
              "      <td id=\"T_24813_row20_col20\" class=\"data row20 col20\" >0</td>\n",
              "      <td id=\"T_24813_row20_col21\" class=\"data row20 col21\" >0</td>\n",
              "      <td id=\"T_24813_row20_col22\" class=\"data row20 col22\" >0</td>\n",
              "      <td id=\"T_24813_row20_col23\" class=\"data row20 col23\" >0</td>\n",
              "      <td id=\"T_24813_row20_col24\" class=\"data row20 col24\" >0</td>\n",
              "      <td id=\"T_24813_row20_col25\" class=\"data row20 col25\" >0</td>\n",
              "      <td id=\"T_24813_row20_col26\" class=\"data row20 col26\" >0</td>\n",
              "      <td id=\"T_24813_row20_col27\" class=\"data row20 col27\" >0</td>\n",
              "    </tr>\n",
              "    <tr>\n",
              "      <th id=\"T_24813_level0_row21\" class=\"row_heading level0 row21\" >21</th>\n",
              "      <td id=\"T_24813_row21_col0\" class=\"data row21 col0\" >0</td>\n",
              "      <td id=\"T_24813_row21_col1\" class=\"data row21 col1\" >0</td>\n",
              "      <td id=\"T_24813_row21_col2\" class=\"data row21 col2\" >0</td>\n",
              "      <td id=\"T_24813_row21_col3\" class=\"data row21 col3\" >0</td>\n",
              "      <td id=\"T_24813_row21_col4\" class=\"data row21 col4\" >0</td>\n",
              "      <td id=\"T_24813_row21_col5\" class=\"data row21 col5\" >0</td>\n",
              "      <td id=\"T_24813_row21_col6\" class=\"data row21 col6\" >76</td>\n",
              "      <td id=\"T_24813_row21_col7\" class=\"data row21 col7\" >244</td>\n",
              "      <td id=\"T_24813_row21_col8\" class=\"data row21 col8\" >253</td>\n",
              "      <td id=\"T_24813_row21_col9\" class=\"data row21 col9\" >203</td>\n",
              "      <td id=\"T_24813_row21_col10\" class=\"data row21 col10\" >79</td>\n",
              "      <td id=\"T_24813_row21_col11\" class=\"data row21 col11\" >29</td>\n",
              "      <td id=\"T_24813_row21_col12\" class=\"data row21 col12\" >29</td>\n",
              "      <td id=\"T_24813_row21_col13\" class=\"data row21 col13\" >128</td>\n",
              "      <td id=\"T_24813_row21_col14\" class=\"data row21 col14\" >204</td>\n",
              "      <td id=\"T_24813_row21_col15\" class=\"data row21 col15\" >247</td>\n",
              "      <td id=\"T_24813_row21_col16\" class=\"data row21 col16\" >100</td>\n",
              "      <td id=\"T_24813_row21_col17\" class=\"data row21 col17\" >0</td>\n",
              "      <td id=\"T_24813_row21_col18\" class=\"data row21 col18\" >0</td>\n",
              "      <td id=\"T_24813_row21_col19\" class=\"data row21 col19\" >0</td>\n",
              "      <td id=\"T_24813_row21_col20\" class=\"data row21 col20\" >0</td>\n",
              "      <td id=\"T_24813_row21_col21\" class=\"data row21 col21\" >0</td>\n",
              "      <td id=\"T_24813_row21_col22\" class=\"data row21 col22\" >0</td>\n",
              "      <td id=\"T_24813_row21_col23\" class=\"data row21 col23\" >0</td>\n",
              "      <td id=\"T_24813_row21_col24\" class=\"data row21 col24\" >0</td>\n",
              "      <td id=\"T_24813_row21_col25\" class=\"data row21 col25\" >0</td>\n",
              "      <td id=\"T_24813_row21_col26\" class=\"data row21 col26\" >0</td>\n",
              "      <td id=\"T_24813_row21_col27\" class=\"data row21 col27\" >0</td>\n",
              "    </tr>\n",
              "    <tr>\n",
              "      <th id=\"T_24813_level0_row22\" class=\"row_heading level0 row22\" >22</th>\n",
              "      <td id=\"T_24813_row22_col0\" class=\"data row22 col0\" >0</td>\n",
              "      <td id=\"T_24813_row22_col1\" class=\"data row22 col1\" >0</td>\n",
              "      <td id=\"T_24813_row22_col2\" class=\"data row22 col2\" >0</td>\n",
              "      <td id=\"T_24813_row22_col3\" class=\"data row22 col3\" >0</td>\n",
              "      <td id=\"T_24813_row22_col4\" class=\"data row22 col4\" >0</td>\n",
              "      <td id=\"T_24813_row22_col5\" class=\"data row22 col5\" >0</td>\n",
              "      <td id=\"T_24813_row22_col6\" class=\"data row22 col6\" >0</td>\n",
              "      <td id=\"T_24813_row22_col7\" class=\"data row22 col7\" >82</td>\n",
              "      <td id=\"T_24813_row22_col8\" class=\"data row22 col8\" >240</td>\n",
              "      <td id=\"T_24813_row22_col9\" class=\"data row22 col9\" >252</td>\n",
              "      <td id=\"T_24813_row22_col10\" class=\"data row22 col10\" >253</td>\n",
              "      <td id=\"T_24813_row22_col11\" class=\"data row22 col11\" >252</td>\n",
              "      <td id=\"T_24813_row22_col12\" class=\"data row22 col12\" >252</td>\n",
              "      <td id=\"T_24813_row22_col13\" class=\"data row22 col13\" >252</td>\n",
              "      <td id=\"T_24813_row22_col14\" class=\"data row22 col14\" >253</td>\n",
              "      <td id=\"T_24813_row22_col15\" class=\"data row22 col15\" >171</td>\n",
              "      <td id=\"T_24813_row22_col16\" class=\"data row22 col16\" >0</td>\n",
              "      <td id=\"T_24813_row22_col17\" class=\"data row22 col17\" >0</td>\n",
              "      <td id=\"T_24813_row22_col18\" class=\"data row22 col18\" >0</td>\n",
              "      <td id=\"T_24813_row22_col19\" class=\"data row22 col19\" >0</td>\n",
              "      <td id=\"T_24813_row22_col20\" class=\"data row22 col20\" >0</td>\n",
              "      <td id=\"T_24813_row22_col21\" class=\"data row22 col21\" >0</td>\n",
              "      <td id=\"T_24813_row22_col22\" class=\"data row22 col22\" >0</td>\n",
              "      <td id=\"T_24813_row22_col23\" class=\"data row22 col23\" >0</td>\n",
              "      <td id=\"T_24813_row22_col24\" class=\"data row22 col24\" >0</td>\n",
              "      <td id=\"T_24813_row22_col25\" class=\"data row22 col25\" >0</td>\n",
              "      <td id=\"T_24813_row22_col26\" class=\"data row22 col26\" >0</td>\n",
              "      <td id=\"T_24813_row22_col27\" class=\"data row22 col27\" >0</td>\n",
              "    </tr>\n",
              "    <tr>\n",
              "      <th id=\"T_24813_level0_row23\" class=\"row_heading level0 row23\" >23</th>\n",
              "      <td id=\"T_24813_row23_col0\" class=\"data row23 col0\" >0</td>\n",
              "      <td id=\"T_24813_row23_col1\" class=\"data row23 col1\" >0</td>\n",
              "      <td id=\"T_24813_row23_col2\" class=\"data row23 col2\" >0</td>\n",
              "      <td id=\"T_24813_row23_col3\" class=\"data row23 col3\" >0</td>\n",
              "      <td id=\"T_24813_row23_col4\" class=\"data row23 col4\" >0</td>\n",
              "      <td id=\"T_24813_row23_col5\" class=\"data row23 col5\" >0</td>\n",
              "      <td id=\"T_24813_row23_col6\" class=\"data row23 col6\" >0</td>\n",
              "      <td id=\"T_24813_row23_col7\" class=\"data row23 col7\" >0</td>\n",
              "      <td id=\"T_24813_row23_col8\" class=\"data row23 col8\" >44</td>\n",
              "      <td id=\"T_24813_row23_col9\" class=\"data row23 col9\" >193</td>\n",
              "      <td id=\"T_24813_row23_col10\" class=\"data row23 col10\" >253</td>\n",
              "      <td id=\"T_24813_row23_col11\" class=\"data row23 col11\" >252</td>\n",
              "      <td id=\"T_24813_row23_col12\" class=\"data row23 col12\" >252</td>\n",
              "      <td id=\"T_24813_row23_col13\" class=\"data row23 col13\" >177</td>\n",
              "      <td id=\"T_24813_row23_col14\" class=\"data row23 col14\" >156</td>\n",
              "      <td id=\"T_24813_row23_col15\" class=\"data row23 col15\" >19</td>\n",
              "      <td id=\"T_24813_row23_col16\" class=\"data row23 col16\" >0</td>\n",
              "      <td id=\"T_24813_row23_col17\" class=\"data row23 col17\" >0</td>\n",
              "      <td id=\"T_24813_row23_col18\" class=\"data row23 col18\" >0</td>\n",
              "      <td id=\"T_24813_row23_col19\" class=\"data row23 col19\" >0</td>\n",
              "      <td id=\"T_24813_row23_col20\" class=\"data row23 col20\" >0</td>\n",
              "      <td id=\"T_24813_row23_col21\" class=\"data row23 col21\" >0</td>\n",
              "      <td id=\"T_24813_row23_col22\" class=\"data row23 col22\" >0</td>\n",
              "      <td id=\"T_24813_row23_col23\" class=\"data row23 col23\" >0</td>\n",
              "      <td id=\"T_24813_row23_col24\" class=\"data row23 col24\" >0</td>\n",
              "      <td id=\"T_24813_row23_col25\" class=\"data row23 col25\" >0</td>\n",
              "      <td id=\"T_24813_row23_col26\" class=\"data row23 col26\" >0</td>\n",
              "      <td id=\"T_24813_row23_col27\" class=\"data row23 col27\" >0</td>\n",
              "    </tr>\n",
              "    <tr>\n",
              "      <th id=\"T_24813_level0_row24\" class=\"row_heading level0 row24\" >24</th>\n",
              "      <td id=\"T_24813_row24_col0\" class=\"data row24 col0\" >0</td>\n",
              "      <td id=\"T_24813_row24_col1\" class=\"data row24 col1\" >0</td>\n",
              "      <td id=\"T_24813_row24_col2\" class=\"data row24 col2\" >0</td>\n",
              "      <td id=\"T_24813_row24_col3\" class=\"data row24 col3\" >0</td>\n",
              "      <td id=\"T_24813_row24_col4\" class=\"data row24 col4\" >0</td>\n",
              "      <td id=\"T_24813_row24_col5\" class=\"data row24 col5\" >0</td>\n",
              "      <td id=\"T_24813_row24_col6\" class=\"data row24 col6\" >0</td>\n",
              "      <td id=\"T_24813_row24_col7\" class=\"data row24 col7\" >0</td>\n",
              "      <td id=\"T_24813_row24_col8\" class=\"data row24 col8\" >0</td>\n",
              "      <td id=\"T_24813_row24_col9\" class=\"data row24 col9\" >13</td>\n",
              "      <td id=\"T_24813_row24_col10\" class=\"data row24 col10\" >28</td>\n",
              "      <td id=\"T_24813_row24_col11\" class=\"data row24 col11\" >28</td>\n",
              "      <td id=\"T_24813_row24_col12\" class=\"data row24 col12\" >28</td>\n",
              "      <td id=\"T_24813_row24_col13\" class=\"data row24 col13\" >3</td>\n",
              "      <td id=\"T_24813_row24_col14\" class=\"data row24 col14\" >0</td>\n",
              "      <td id=\"T_24813_row24_col15\" class=\"data row24 col15\" >0</td>\n",
              "      <td id=\"T_24813_row24_col16\" class=\"data row24 col16\" >0</td>\n",
              "      <td id=\"T_24813_row24_col17\" class=\"data row24 col17\" >0</td>\n",
              "      <td id=\"T_24813_row24_col18\" class=\"data row24 col18\" >0</td>\n",
              "      <td id=\"T_24813_row24_col19\" class=\"data row24 col19\" >0</td>\n",
              "      <td id=\"T_24813_row24_col20\" class=\"data row24 col20\" >0</td>\n",
              "      <td id=\"T_24813_row24_col21\" class=\"data row24 col21\" >0</td>\n",
              "      <td id=\"T_24813_row24_col22\" class=\"data row24 col22\" >0</td>\n",
              "      <td id=\"T_24813_row24_col23\" class=\"data row24 col23\" >0</td>\n",
              "      <td id=\"T_24813_row24_col24\" class=\"data row24 col24\" >0</td>\n",
              "      <td id=\"T_24813_row24_col25\" class=\"data row24 col25\" >0</td>\n",
              "      <td id=\"T_24813_row24_col26\" class=\"data row24 col26\" >0</td>\n",
              "      <td id=\"T_24813_row24_col27\" class=\"data row24 col27\" >0</td>\n",
              "    </tr>\n",
              "    <tr>\n",
              "      <th id=\"T_24813_level0_row25\" class=\"row_heading level0 row25\" >25</th>\n",
              "      <td id=\"T_24813_row25_col0\" class=\"data row25 col0\" >0</td>\n",
              "      <td id=\"T_24813_row25_col1\" class=\"data row25 col1\" >0</td>\n",
              "      <td id=\"T_24813_row25_col2\" class=\"data row25 col2\" >0</td>\n",
              "      <td id=\"T_24813_row25_col3\" class=\"data row25 col3\" >0</td>\n",
              "      <td id=\"T_24813_row25_col4\" class=\"data row25 col4\" >0</td>\n",
              "      <td id=\"T_24813_row25_col5\" class=\"data row25 col5\" >0</td>\n",
              "      <td id=\"T_24813_row25_col6\" class=\"data row25 col6\" >0</td>\n",
              "      <td id=\"T_24813_row25_col7\" class=\"data row25 col7\" >0</td>\n",
              "      <td id=\"T_24813_row25_col8\" class=\"data row25 col8\" >0</td>\n",
              "      <td id=\"T_24813_row25_col9\" class=\"data row25 col9\" >0</td>\n",
              "      <td id=\"T_24813_row25_col10\" class=\"data row25 col10\" >0</td>\n",
              "      <td id=\"T_24813_row25_col11\" class=\"data row25 col11\" >0</td>\n",
              "      <td id=\"T_24813_row25_col12\" class=\"data row25 col12\" >0</td>\n",
              "      <td id=\"T_24813_row25_col13\" class=\"data row25 col13\" >0</td>\n",
              "      <td id=\"T_24813_row25_col14\" class=\"data row25 col14\" >0</td>\n",
              "      <td id=\"T_24813_row25_col15\" class=\"data row25 col15\" >0</td>\n",
              "      <td id=\"T_24813_row25_col16\" class=\"data row25 col16\" >0</td>\n",
              "      <td id=\"T_24813_row25_col17\" class=\"data row25 col17\" >0</td>\n",
              "      <td id=\"T_24813_row25_col18\" class=\"data row25 col18\" >0</td>\n",
              "      <td id=\"T_24813_row25_col19\" class=\"data row25 col19\" >0</td>\n",
              "      <td id=\"T_24813_row25_col20\" class=\"data row25 col20\" >0</td>\n",
              "      <td id=\"T_24813_row25_col21\" class=\"data row25 col21\" >0</td>\n",
              "      <td id=\"T_24813_row25_col22\" class=\"data row25 col22\" >0</td>\n",
              "      <td id=\"T_24813_row25_col23\" class=\"data row25 col23\" >0</td>\n",
              "      <td id=\"T_24813_row25_col24\" class=\"data row25 col24\" >0</td>\n",
              "      <td id=\"T_24813_row25_col25\" class=\"data row25 col25\" >0</td>\n",
              "      <td id=\"T_24813_row25_col26\" class=\"data row25 col26\" >0</td>\n",
              "      <td id=\"T_24813_row25_col27\" class=\"data row25 col27\" >0</td>\n",
              "    </tr>\n",
              "    <tr>\n",
              "      <th id=\"T_24813_level0_row26\" class=\"row_heading level0 row26\" >26</th>\n",
              "      <td id=\"T_24813_row26_col0\" class=\"data row26 col0\" >0</td>\n",
              "      <td id=\"T_24813_row26_col1\" class=\"data row26 col1\" >0</td>\n",
              "      <td id=\"T_24813_row26_col2\" class=\"data row26 col2\" >0</td>\n",
              "      <td id=\"T_24813_row26_col3\" class=\"data row26 col3\" >0</td>\n",
              "      <td id=\"T_24813_row26_col4\" class=\"data row26 col4\" >0</td>\n",
              "      <td id=\"T_24813_row26_col5\" class=\"data row26 col5\" >0</td>\n",
              "      <td id=\"T_24813_row26_col6\" class=\"data row26 col6\" >0</td>\n",
              "      <td id=\"T_24813_row26_col7\" class=\"data row26 col7\" >0</td>\n",
              "      <td id=\"T_24813_row26_col8\" class=\"data row26 col8\" >0</td>\n",
              "      <td id=\"T_24813_row26_col9\" class=\"data row26 col9\" >0</td>\n",
              "      <td id=\"T_24813_row26_col10\" class=\"data row26 col10\" >0</td>\n",
              "      <td id=\"T_24813_row26_col11\" class=\"data row26 col11\" >0</td>\n",
              "      <td id=\"T_24813_row26_col12\" class=\"data row26 col12\" >0</td>\n",
              "      <td id=\"T_24813_row26_col13\" class=\"data row26 col13\" >0</td>\n",
              "      <td id=\"T_24813_row26_col14\" class=\"data row26 col14\" >0</td>\n",
              "      <td id=\"T_24813_row26_col15\" class=\"data row26 col15\" >0</td>\n",
              "      <td id=\"T_24813_row26_col16\" class=\"data row26 col16\" >0</td>\n",
              "      <td id=\"T_24813_row26_col17\" class=\"data row26 col17\" >0</td>\n",
              "      <td id=\"T_24813_row26_col18\" class=\"data row26 col18\" >0</td>\n",
              "      <td id=\"T_24813_row26_col19\" class=\"data row26 col19\" >0</td>\n",
              "      <td id=\"T_24813_row26_col20\" class=\"data row26 col20\" >0</td>\n",
              "      <td id=\"T_24813_row26_col21\" class=\"data row26 col21\" >0</td>\n",
              "      <td id=\"T_24813_row26_col22\" class=\"data row26 col22\" >0</td>\n",
              "      <td id=\"T_24813_row26_col23\" class=\"data row26 col23\" >0</td>\n",
              "      <td id=\"T_24813_row26_col24\" class=\"data row26 col24\" >0</td>\n",
              "      <td id=\"T_24813_row26_col25\" class=\"data row26 col25\" >0</td>\n",
              "      <td id=\"T_24813_row26_col26\" class=\"data row26 col26\" >0</td>\n",
              "      <td id=\"T_24813_row26_col27\" class=\"data row26 col27\" >0</td>\n",
              "    </tr>\n",
              "    <tr>\n",
              "      <th id=\"T_24813_level0_row27\" class=\"row_heading level0 row27\" >27</th>\n",
              "      <td id=\"T_24813_row27_col0\" class=\"data row27 col0\" >0</td>\n",
              "      <td id=\"T_24813_row27_col1\" class=\"data row27 col1\" >0</td>\n",
              "      <td id=\"T_24813_row27_col2\" class=\"data row27 col2\" >0</td>\n",
              "      <td id=\"T_24813_row27_col3\" class=\"data row27 col3\" >0</td>\n",
              "      <td id=\"T_24813_row27_col4\" class=\"data row27 col4\" >0</td>\n",
              "      <td id=\"T_24813_row27_col5\" class=\"data row27 col5\" >0</td>\n",
              "      <td id=\"T_24813_row27_col6\" class=\"data row27 col6\" >0</td>\n",
              "      <td id=\"T_24813_row27_col7\" class=\"data row27 col7\" >0</td>\n",
              "      <td id=\"T_24813_row27_col8\" class=\"data row27 col8\" >0</td>\n",
              "      <td id=\"T_24813_row27_col9\" class=\"data row27 col9\" >0</td>\n",
              "      <td id=\"T_24813_row27_col10\" class=\"data row27 col10\" >0</td>\n",
              "      <td id=\"T_24813_row27_col11\" class=\"data row27 col11\" >0</td>\n",
              "      <td id=\"T_24813_row27_col12\" class=\"data row27 col12\" >0</td>\n",
              "      <td id=\"T_24813_row27_col13\" class=\"data row27 col13\" >0</td>\n",
              "      <td id=\"T_24813_row27_col14\" class=\"data row27 col14\" >0</td>\n",
              "      <td id=\"T_24813_row27_col15\" class=\"data row27 col15\" >0</td>\n",
              "      <td id=\"T_24813_row27_col16\" class=\"data row27 col16\" >0</td>\n",
              "      <td id=\"T_24813_row27_col17\" class=\"data row27 col17\" >0</td>\n",
              "      <td id=\"T_24813_row27_col18\" class=\"data row27 col18\" >0</td>\n",
              "      <td id=\"T_24813_row27_col19\" class=\"data row27 col19\" >0</td>\n",
              "      <td id=\"T_24813_row27_col20\" class=\"data row27 col20\" >0</td>\n",
              "      <td id=\"T_24813_row27_col21\" class=\"data row27 col21\" >0</td>\n",
              "      <td id=\"T_24813_row27_col22\" class=\"data row27 col22\" >0</td>\n",
              "      <td id=\"T_24813_row27_col23\" class=\"data row27 col23\" >0</td>\n",
              "      <td id=\"T_24813_row27_col24\" class=\"data row27 col24\" >0</td>\n",
              "      <td id=\"T_24813_row27_col25\" class=\"data row27 col25\" >0</td>\n",
              "      <td id=\"T_24813_row27_col26\" class=\"data row27 col26\" >0</td>\n",
              "      <td id=\"T_24813_row27_col27\" class=\"data row27 col27\" >0</td>\n",
              "    </tr>\n",
              "  </tbody>\n",
              "</table>\n"
            ]
          },
          "metadata": {},
          "execution_count": 4
        }
      ],
      "source": [
        "#hide_output\n",
        "df = pd.DataFrame(train_tensors['5'][5420])\n",
        "df.style.set_properties(**{'font-size':'6pt'}).background_gradient('Greys')"
      ]
    },
    {
      "cell_type": "code",
      "execution_count": 5,
      "metadata": {
        "colab": {
          "base_uri": "https://localhost:8080/"
        },
        "id": "TSkVKBEd8cJj",
        "outputId": "56f73025-ad58-433b-cff7-75bebba78830"
      },
      "outputs": [
        {
          "output_type": "execute_result",
          "data": {
            "text/plain": [
              "(torch.Size([6131, 28, 28]), 3, torch.Size([5421, 28, 28]), True)"
            ]
          },
          "metadata": {},
          "execution_count": 5
        }
      ],
      "source": [
        "stacked_tensors = {}\n",
        "for t in train_tensors:\n",
        "  stacked_tensors[t] = torch.stack(train_tensors[t]).float()/255\n",
        "\n",
        "stacked_tensors['3'].shape, len(stacked_tensors['3'].shape), stacked_tensors['5'].shape, len(stacked_tensors['3'].shape) == len(stacked_tensors['5'].shape)"
      ]
    },
    {
      "cell_type": "code",
      "execution_count": 6,
      "metadata": {
        "colab": {
          "base_uri": "https://localhost:8080/",
          "height": 132
        },
        "id": "_thohkKz8cJo",
        "outputId": "89711d3d-4e02-49a2-c878-87ef877aef7d",
        "collapsed": true
      },
      "outputs": [
        {
          "output_type": "execute_result",
          "data": {
            "text/plain": [
              "<Axes: >"
            ]
          },
          "metadata": {},
          "execution_count": 6
        },
        {
          "output_type": "display_data",
          "data": {
            "text/plain": [
              "<Figure size 100x100 with 1 Axes>"
            ],
            "image/png": "[encoded data removed]"
          },
          "metadata": {}
        }
      ],
      "source": [
        "means = {}\n",
        "for s in stacked_tensors:\n",
        "  means[s] = stacked_tensors[s].mean(0)\n",
        "show_image(means['5'])"
      ]
    },
    {
      "cell_type": "code",
      "execution_count": 7,
      "metadata": {
        "colab": {
          "base_uri": "https://localhost:8080/",
          "height": 132
        },
        "id": "kBB43TTo8cJp",
        "outputId": "e7a119ff-6c6e-4f24-f858-3b3ad2c5c2f7",
        "collapsed": true
      },
      "outputs": [
        {
          "output_type": "execute_result",
          "data": {
            "text/plain": [
              "<Axes: >"
            ]
          },
          "metadata": {},
          "execution_count": 7
        },
        {
          "output_type": "display_data",
          "data": {
            "text/plain": [
              "<Figure size 100x100 with 1 Axes>"
            ],
            "image/png": "[encoded data removed]"
          },
          "metadata": {}
        }
      ],
      "source": [
        "a_5 = stacked_tensors['5'][5420]\n",
        "show_image(a_5)"
      ]
    },
    {
      "cell_type": "code",
      "execution_count": 8,
      "metadata": {
        "colab": {
          "base_uri": "https://localhost:8080/"
        },
        "id": "3KbTTwCL8cJp",
        "outputId": "a03c4917-578e-4ec8-a359-dfcd6df633ed"
      },
      "outputs": [
        {
          "output_type": "execute_result",
          "data": {
            "text/plain": [
              "(tensor(0.1204), tensor(0.2137))"
            ]
          },
          "metadata": {},
          "execution_count": 8
        }
      ],
      "source": [
        "dist_5_abs = (a_5 - means['5']).abs().mean()\n",
        "dist_5_sqr = ((a_5 - means['5'])**2).mean().sqrt()\n",
        "dist_5_abs,dist_5_sqr"
      ]
    },
    {
      "cell_type": "code",
      "execution_count": 9,
      "metadata": {
        "colab": {
          "base_uri": "https://localhost:8080/"
        },
        "id": "m5iNyY6n8cJq",
        "outputId": "a8ff51ba-8d07-40bb-a66d-41a5740c60c3"
      },
      "outputs": [
        {
          "output_type": "execute_result",
          "data": {
            "text/plain": [
              "(tensor(0.1204), tensor(0.2137))"
            ]
          },
          "metadata": {},
          "execution_count": 9
        }
      ],
      "source": [
        "F.l1_loss(a_5.float(),means['5']), F.mse_loss(a_5,means['5']).sqrt()"
      ]
    },
    {
      "cell_type": "code",
      "execution_count": 10,
      "metadata": {
        "id": "XJuNkscK8cJt"
      },
      "outputs": [],
      "source": [
        "test_tensors = {}\n",
        "for path in test:\n",
        "  test_tensors[path.name] = torch.stack([tensor(Image.open(o)) for o in path.ls()])\n",
        "  test_tensors[path.name] = test_tensors[path.name].float()/255"
      ]
    },
    {
      "cell_type": "code",
      "execution_count": 11,
      "metadata": {
        "colab": {
          "base_uri": "https://localhost:8080/"
        },
        "id": "5X3gJG5q8cJt",
        "outputId": "e601ef4f-9003-4e45-f0a2-5ed455f4a105"
      },
      "outputs": [
        {
          "output_type": "execute_result",
          "data": {
            "text/plain": [
              "tensor(0.1204)"
            ]
          },
          "metadata": {},
          "execution_count": 11
        }
      ],
      "source": [
        "def mnist_distance(a,b): return (a-b).abs().mean((-1,-2))\n",
        "mnist_distance(a_5, means['5'])"
      ]
    },
    {
      "cell_type": "code",
      "execution_count": 12,
      "metadata": {
        "colab": {
          "base_uri": "https://localhost:8080/"
        },
        "id": "G1GjPMR88cJt",
        "outputId": "5ab7f16a-3162-4f89-da93-1fe80884816e",
        "collapsed": true
      },
      "outputs": [
        {
          "output_type": "execute_result",
          "data": {
            "text/plain": [
              "(tensor([0.1372, 0.1305, 0.1266, 0.1547, 0.1357, 0.1559, 0.1465, 0.1539, 0.1524, 0.1457, 0.1302, 0.1531, 0.1453, 0.1182, 0.1443, 0.1372, 0.1184, 0.1272, 0.1306, 0.1177, 0.1320, 0.1277, 0.1495, 0.1191,\n",
              "         0.1313, 0.1418, 0.1345, 0.1171, 0.1201, 0.1683, 0.1621, 0.1223, 0.1636, 0.1142, 0.1603, 0.1331, 0.1277, 0.1189, 0.1204, 0.1314, 0.1464, 0.1286, 0.1283, 0.1973, 0.1601, 0.1743, 0.1254, 0.1358,\n",
              "         0.1245, 0.1338, 0.1491, 0.1649, 0.1455, 0.1333, 0.1304, 0.1858, 0.1282, 0.1399, 0.1104, 0.1538, 0.1220, 0.1457, 0.1390, 0.1148, 0.1545, 0.1312, 0.1257, 0.1481, 0.1439, 0.1252, 0.1409, 0.1232,\n",
              "         0.1168, 0.1433, 0.1379, 0.1422, 0.1383, 0.1271, 0.1355, 0.1140, 0.1329, 0.1303, 0.1508, 0.1377, 0.1503, 0.1369, 0.1530, 0.1318, 0.1249, 0.1270, 0.1183, 0.1328, 0.1401, 0.1444, 0.1223, 0.1353,\n",
              "         0.1210, 0.1341, 0.1123, 0.1340, 0.1435, 0.1707, 0.1314, 0.1594, 0.1753, 0.1603, 0.1571, 0.1314, 0.1492, 0.1309, 0.1476, 0.1371, 0.1519, 0.1377, 0.1523, 0.1378, 0.1223, 0.1352, 0.1695, 0.1188,\n",
              "         0.1248, 0.1353, 0.1379, 0.1410, 0.1342, 0.1365, 0.1344, 0.1265, 0.1287, 0.1378, 0.1421, 0.1446, 0.1443, 0.1388, 0.1324, 0.1287, 0.1410, 0.1286, 0.1351, 0.1696, 0.1330, 0.1510, 0.1823, 0.1662,\n",
              "         0.1287, 0.1237, 0.1312, 0.1699, 0.1826, 0.1369, 0.1453, 0.1255, 0.1382, 0.1445, 0.1340, 0.1363, 0.1273, 0.1308, 0.1668, 0.1502, 0.1338, 0.1420, 0.1528, 0.1271, 0.1331, 0.1319, 0.1453, 0.1317,\n",
              "         0.1361, 0.1696, 0.1260, 0.1579, 0.1543, 0.1558, 0.1361, 0.2040, 0.1417, 0.1300, 0.1595, 0.1339, 0.1311, 0.1165, 0.1339, 0.1218, 0.1383, 0.1596, 0.1214, 0.1392, 0.1511, 0.1263, 0.1203, 0.1680,\n",
              "         0.1265, 0.1432, 0.1204, 0.1244, 0.1264, 0.1146, 0.1702, 0.1339, 0.1302, 0.1359, 0.1362, 0.1322, 0.1530, 0.1397, 0.1281, 0.1593, 0.1273, 0.1346, 0.1326, 0.1509, 0.1638, 0.1222, 0.1349, 0.1266,\n",
              "         0.1481, 0.1398, 0.1467, 0.1256, 0.1256, 0.1428, 0.1251, 0.1607, 0.1302, 0.1420, 0.1195, 0.1500, 0.1442, 0.1263, 0.1215, 0.1486, 0.1551, 0.1290, 0.1199, 0.1227, 0.1408, 0.1576, 0.1386, 0.1203,\n",
              "         0.1484, 0.1374, 0.1165, 0.1409, 0.1392, 0.1231, 0.1275, 0.1196, 0.1631, 0.1296, 0.1440, 0.1232, 0.1256, 0.1492, 0.1399, 0.1198, 0.1402, 0.1339, 0.1776, 0.1636, 0.1423, 0.1408, 0.1621, 0.1368,\n",
              "         0.1237, 0.1526, 0.1290, 0.1630, 0.1391, 0.1357, 0.1423, 0.1333, 0.1287, 0.1562, 0.1307, 0.1359, 0.1530, 0.1427, 0.1307, 0.1262, 0.1436, 0.1381, 0.1412, 0.1420, 0.1511, 0.1441, 0.1302, 0.1205,\n",
              "         0.1210, 0.1420, 0.1407, 0.1346, 0.1325, 0.1334, 0.1630, 0.1397, 0.1204, 0.1199, 0.1271, 0.1355, 0.1381, 0.1215, 0.1412, 0.1119, 0.1707, 0.1227, 0.1443, 0.1358, 0.1297, 0.1327, 0.1448, 0.1336,\n",
              "         0.1257, 0.1432, 0.1404, 0.1230, 0.1300, 0.1484, 0.1579, 0.1443, 0.1552, 0.1472, 0.1576, 0.1394, 0.1299, 0.1247, 0.1373, 0.1542, 0.1502, 0.1255, 0.1494, 0.1348, 0.1324, 0.1314, 0.1468, 0.1532,\n",
              "         0.1599, 0.1372, 0.1345, 0.1339, 0.1495, 0.1292, 0.1354, 0.1250, 0.1712, 0.1220, 0.1215, 0.1385, 0.1386, 0.1326, 0.1186, 0.1443, 0.1297, 0.1275, 0.1288, 0.1294, 0.1622, 0.1333, 0.1518, 0.1163,\n",
              "         0.1181, 0.1129, 0.1207, 0.1607, 0.1331, 0.1312, 0.1359, 0.1427, 0.1259, 0.1425, 0.1321, 0.1293, 0.1287, 0.1497, 0.1463, 0.1475, 0.1299, 0.1345, 0.1183, 0.1250, 0.1504, 0.1330, 0.1312, 0.1413,\n",
              "         0.1709, 0.1341, 0.1303, 0.1324, 0.1238, 0.1230, 0.1226, 0.1461, 0.1308, 0.1778, 0.1465, 0.1212, 0.1252, 0.1212, 0.1342, 0.1415, 0.1303, 0.1769, 0.1245, 0.1298, 0.1258, 0.1547, 0.1259, 0.1219,\n",
              "         0.1151, 0.1327, 0.1205, 0.1225, 0.1188, 0.1227, 0.1319, 0.1591, 0.1303, 0.1372, 0.1209, 0.1556, 0.1588, 0.1695, 0.1462, 0.1179, 0.1296, 0.1187, 0.1531, 0.1215, 0.1292, 0.1492, 0.1702, 0.1241,\n",
              "         0.1455, 0.1287, 0.1164, 0.1222, 0.1320, 0.1334, 0.1697, 0.1271, 0.1401, 0.1612, 0.1512, 0.1451, 0.1441, 0.1239, 0.1360, 0.1444, 0.1408, 0.1226, 0.1192, 0.1100, 0.1378, 0.1345, 0.1518, 0.1170,\n",
              "         0.1379, 0.1390, 0.1942, 0.1323, 0.1279, 0.1205, 0.1288, 0.1748, 0.1299, 0.1282, 0.1497, 0.1460, 0.1181, 0.1232, 0.1478, 0.1183, 0.1430, 0.1469, 0.1534, 0.1343, 0.1473, 0.1342, 0.1117, 0.1328,\n",
              "         0.1220, 0.1358, 0.1379, 0.1287, 0.1433, 0.1283, 0.1408, 0.1162, 0.1436, 0.1725, 0.1352, 0.1393, 0.1336, 0.1371, 0.1467, 0.1150, 0.1228, 0.1547, 0.1235, 0.1407, 0.1464, 0.1260, 0.1215, 0.1430,\n",
              "         0.1435, 0.1591, 0.1217, 0.1325, 0.1495, 0.1456, 0.1240, 0.1230, 0.1348, 0.1189, 0.1582, 0.1281, 0.1378, 0.1780, 0.1456, 0.1589, 0.1448, 0.1397, 0.1449, 0.1236, 0.1259, 0.1160, 0.1415, 0.1606,\n",
              "         0.1363, 0.1297, 0.1344, 0.1182, 0.1179, 0.1316, 0.1343, 0.1177, 0.1599, 0.1201, 0.1259, 0.1294, 0.1235, 0.1345, 0.1527, 0.1338, 0.1307, 0.1295, 0.1213, 0.1673, 0.1215, 0.1700, 0.1205, 0.1745,\n",
              "         0.1245, 0.1262, 0.1402, 0.1205, 0.1435, 0.1297, 0.1835, 0.1250, 0.1336, 0.1331, 0.1507, 0.1213, 0.1104, 0.1433, 0.1425, 0.1341, 0.1399, 0.1218, 0.1482, 0.1202, 0.1215, 0.1342, 0.1314, 0.1435,\n",
              "         0.1658, 0.1218, 0.1511, 0.1421, 0.1305, 0.1140, 0.1227, 0.1271, 0.1508, 0.1822, 0.1336, 0.1550, 0.1395, 0.1631, 0.1366, 0.1404, 0.1389, 0.1399, 0.1244, 0.1165, 0.1322, 0.1368, 0.1285, 0.1261,\n",
              "         0.1560, 0.1172, 0.1546, 0.1351, 0.1294, 0.1433, 0.1816, 0.1183, 0.1502, 0.1267, 0.1140, 0.1527, 0.1326, 0.1253, 0.1702, 0.1390, 0.1398, 0.1275, 0.1312, 0.1857, 0.1659, 0.1272, 0.1320, 0.1743,\n",
              "         0.1254, 0.1135, 0.1332, 0.1306, 0.1253, 0.1617, 0.1340, 0.1282, 0.1345, 0.1210, 0.1650, 0.1251, 0.1776, 0.1487, 0.1217, 0.1652, 0.1357, 0.1771, 0.1717, 0.1362, 0.1541, 0.1199, 0.1413, 0.1283,\n",
              "         0.1653, 0.1246, 0.1393, 0.1257, 0.1295, 0.1119, 0.1317, 0.1322, 0.1552, 0.1453, 0.1571, 0.1151, 0.1327, 0.1663, 0.1275, 0.1870, 0.1289, 0.1366, 0.1661, 0.1495, 0.1280, 0.1134, 0.1474, 0.1468,\n",
              "         0.1490, 0.1461, 0.1322, 0.1415, 0.1215, 0.1363, 0.1199, 0.1284, 0.1391, 0.1464, 0.1397, 0.1329, 0.1220, 0.1700, 0.1293, 0.1548, 0.1303, 0.1338, 0.1473, 0.1354, 0.1430, 0.1360, 0.1542, 0.1354,\n",
              "         0.1394, 0.1545, 0.1284, 0.1291, 0.1482, 0.1397, 0.1281, 0.1164, 0.1505, 0.1523, 0.1590, 0.1455, 0.1540, 0.1238, 0.1485, 0.1714, 0.1324, 0.1220, 0.1477, 0.1673, 0.1203, 0.1341, 0.1284, 0.1519,\n",
              "         0.1496, 0.1352, 0.1479, 0.1182, 0.1583, 0.1316, 0.1486, 0.1183, 0.1151, 0.1348, 0.1471, 0.1138, 0.1566, 0.1682, 0.1216, 0.1317, 0.1536, 0.1312, 0.1224, 0.1368, 0.1470, 0.1128, 0.1167, 0.1529,\n",
              "         0.1645, 0.1469, 0.1295, 0.1533, 0.1390, 0.1322, 0.1648, 0.1287, 0.1180, 0.1400, 0.1340, 0.1260, 0.1233, 0.1647, 0.1449, 0.1330, 0.1570, 0.1305, 0.1611, 0.1155, 0.1308, 0.1454, 0.1401, 0.1146,\n",
              "         0.1358, 0.1306, 0.1321, 0.1339, 0.1294, 0.1141, 0.1609, 0.1232, 0.1667, 0.1308, 0.1496, 0.1342, 0.1152, 0.1338, 0.1394, 0.1274, 0.1378, 0.1351, 0.1397, 0.1264, 0.1235, 0.1177, 0.1366, 0.1243,\n",
              "         0.1380, 0.1408, 0.1322, 0.1346, 0.1430, 0.1380, 0.1307, 0.1218, 0.1179, 0.1349, 0.1281, 0.1338, 0.1212, 0.1168, 0.1347, 0.1504, 0.1529, 0.1358, 0.1244, 0.1340, 0.1345, 0.1395, 0.1788, 0.1177,\n",
              "         0.1210, 0.1331, 0.1610, 0.1494, 0.1569, 0.1391, 0.1307, 0.1424, 0.1490, 0.1324, 0.1214, 0.1159, 0.1840, 0.1397, 0.1706, 0.1268, 0.1520, 0.1745, 0.1316, 0.1199, 0.1168, 0.1193, 0.1280, 0.1331,\n",
              "         0.1334, 0.1415, 0.1204, 0.1242, 0.1266, 0.1321, 0.1302, 0.1389, 0.1444, 0.1220, 0.1389, 0.1252, 0.1203, 0.1317, 0.1478, 0.1552, 0.1629, 0.1234, 0.1708, 0.1279, 0.1282, 0.1108, 0.1325, 0.1289,\n",
              "         0.1437, 0.1171, 0.1195, 0.1403, 0.1261, 0.1188, 0.1586, 0.1342, 0.1426, 0.1189, 0.1226, 0.1343, 0.1439, 0.1426, 0.1178, 0.1170, 0.1234, 0.1663, 0.1291, 0.1264, 0.1541, 0.1530, 0.1286, 0.1167,\n",
              "         0.1546, 0.1327, 0.1502, 0.1636]),\n",
              " torch.Size([892]))"
            ]
          },
          "metadata": {},
          "execution_count": 12
        }
      ],
      "source": [
        "testing_5_dist = mnist_distance(test_tensors['5'], means['5'])\n",
        "testing_5_dist, testing_5_dist.shape"
      ]
    },
    {
      "cell_type": "code",
      "execution_count": 13,
      "metadata": {
        "id": "CfZyDXVT8cJt"
      },
      "outputs": [],
      "source": [
        "def is_3(x): return mnist_distance(x, means['3']) < mnist_distance(x, means['5'])"
      ]
    },
    {
      "cell_type": "code",
      "source": [
        "def determine_number(val):\n",
        "  err = torch.stack([(mnist_distance(val, means[str(m)])) for m in range(10)], dim = 1)\n",
        "  err = torch.argmin(err, dim = 1)\n",
        "  return err"
      ],
      "metadata": {
        "id": "kvrP2eZ1tm3h"
      },
      "execution_count": 14,
      "outputs": []
    },
    {
      "cell_type": "code",
      "execution_count": 15,
      "metadata": {
        "colab": {
          "base_uri": "https://localhost:8080/"
        },
        "id": "76KwLe1v8cJu",
        "outputId": "41aebbd1-9619-4707-cb61-8cb6e395fbf2"
      },
      "outputs": [
        {
          "output_type": "execute_result",
          "data": {
            "text/plain": [
              "(tensor(True), tensor(1.))"
            ]
          },
          "metadata": {},
          "execution_count": 15
        }
      ],
      "source": [
        "is_3(test_tensors['3'][5]), is_3(test_tensors['3'][5]).float()"
      ]
    },
    {
      "cell_type": "code",
      "execution_count": 16,
      "metadata": {
        "id": "-TPdYY2u8cJu"
      },
      "outputs": [],
      "source": [
        "import builtins"
      ]
    },
    {
      "cell_type": "code",
      "execution_count": 17,
      "metadata": {
        "colab": {
          "base_uri": "https://localhost:8080/"
        },
        "id": "ob0kyn3M8cJu",
        "outputId": "6445e369-dd35-4bae-f85c-ec2d8c9d442b",
        "collapsed": true
      },
      "outputs": [
        {
          "output_type": "execute_result",
          "data": {
            "text/plain": [
              "0.6610330933054313"
            ]
          },
          "metadata": {},
          "execution_count": 17
        }
      ],
      "source": [
        "acc = {}\n",
        "for k, test_tensor in test_tensors.items():\n",
        "  preds = determine_number(test_tensor)\n",
        "  total_sum = builtins.sum(pred.item() == int(k) for pred in preds)\n",
        "  acc[k] = total_sum / len(preds)\n",
        "builtins.sum(acc.values()) / len(acc)"
      ]
    },
    {
      "cell_type": "code",
      "execution_count": 20,
      "metadata": {
        "id": "UxWeTI3W8cJz"
      },
      "outputs": [],
      "source": [
        "def mse(preds, targets): return ((preds-targets)**2).mean()"
      ]
    },
    {
      "cell_type": "code",
      "execution_count": 68,
      "metadata": {
        "colab": {
          "base_uri": "https://localhost:8080/"
        },
        "id": "Oa36g8q78cJ2",
        "outputId": "7bd78aad-3f9b-4a49-ba92-baf6592729fc"
      },
      "outputs": [
        {
          "output_type": "execute_result",
          "data": {
            "text/plain": [
              "(torch.Size([60000, 784]), torch.Size([60000, 1]))"
            ]
          },
          "metadata": {},
          "execution_count": 68
        }
      ],
      "source": [
        "train_x = torch.cat([s for s in stacked_tensors.values()]).view(-1, 28*28)\n",
        "train_y = [[int(n)] * len(tensor) for n, tensor in train_tensors.items()]\n",
        "train_y = torch.cat([tensor(l) for l in train_y]).unsqueeze(1)\n",
        "train_x.shape, train_y.shape"
      ]
    },
    {
      "cell_type": "code",
      "execution_count": 73,
      "metadata": {
        "colab": {
          "base_uri": "https://localhost:8080/"
        },
        "id": "O9uvXzUk8cJ2",
        "outputId": "f592ad46-4c9f-4f4d-9aab-a58fc32f543a"
      },
      "outputs": [
        {
          "output_type": "execute_result",
          "data": {
            "text/plain": [
              "(torch.Size([784]), tensor([0]))"
            ]
          },
          "metadata": {},
          "execution_count": 73
        }
      ],
      "source": [
        "dset = list(zip(train_x,train_y))\n",
        "x,y = dset[0]\n",
        "x.shape,y"
      ]
    },
    {
      "cell_type": "code",
      "execution_count": 75,
      "metadata": {
        "id": "6rs4hzVZ8cJ2"
      },
      "outputs": [],
      "source": [
        "test_x = torch.cat([test_tensor for test_tensor in test_tensors.values()]).view(-1, 28*28)\n",
        "test_x = [[int(n)] * len(tensor) for n, tensor in test_tensors.items()]\n",
        "test_y = torch.cat([tensor(l) for l in train_y]).unsqueeze(1)\n",
        "test_dset = list(zip(test_x,test_y))"
      ]
    },
    {
      "cell_type": "code",
      "execution_count": 76,
      "metadata": {
        "id": "n8PRcsy58cJ2"
      },
      "outputs": [],
      "source": [
        "def init_params(size, std=1.0): return (torch.randn(size)*std).requires_grad_()"
      ]
    },
    {
      "cell_type": "code",
      "execution_count": 87,
      "metadata": {
        "id": "KEwFzsVh8cJ3"
      },
      "outputs": [],
      "source": [
        "weights = init_params((28*28,10))\n",
        "bias = init_params(10)"
      ]
    },
    {
      "cell_type": "code",
      "execution_count": 88,
      "metadata": {
        "colab": {
          "base_uri": "https://localhost:8080/"
        },
        "id": "he-pmlKY8cJ3",
        "outputId": "73a7000f-c51c-46f6-aab6-66dc12fa2953"
      },
      "outputs": [
        {
          "output_type": "execute_result",
          "data": {
            "text/plain": [
              "tensor([47.7761, 46.2360, 48.2167, 48.3564, 46.9065, 47.7337, 48.9209, 48.9993, 49.5745, 48.2303], grad_fn=<AddBackward0>)"
            ]
          },
          "metadata": {},
          "execution_count": 88
        }
      ],
      "source": [
        "(train_x[0]*weights.T).sum() + bias"
      ]
    },
    {
      "cell_type": "code",
      "execution_count": 89,
      "metadata": {
        "colab": {
          "base_uri": "https://localhost:8080/"
        },
        "id": "kHKnj1iB8cJ3",
        "outputId": "f9b888ca-0fbb-44b8-eb93-3bc9bf1fc035"
      },
      "outputs": [
        {
          "output_type": "execute_result",
          "data": {
            "text/plain": [
              "tensor([[ 13.8304,  14.3102,  -1.7790,  ..., -26.3039,  13.2142,  27.3960],\n",
              "        [ 11.6721,  -0.9881,  14.8505,  ..., -17.4019,  -0.8964,  16.8875],\n",
              "        [  7.7743,   2.2867,  -2.9371,  ..., -24.1415,   9.8838,  14.0946],\n",
              "        ...,\n",
              "        [  6.0142,  -2.0647,  -5.6052,  ..., -10.9471,  -5.3453,  13.3555],\n",
              "        [  6.8073,   9.9803,  -1.1557,  ...,  -5.0970,   1.3961,   8.6760],\n",
              "        [  4.0013,  15.5241,  -2.1219,  ...,  -6.4946,  -5.1504,  14.5047]], grad_fn=<AddBackward0>)"
            ]
          },
          "metadata": {},
          "execution_count": 89
        }
      ],
      "source": [
        "def linear1(xb): return xb@weights + bias\n",
        "preds = linear1(train_x)\n",
        "preds"
      ]
    },
    {
      "cell_type": "code",
      "execution_count": 90,
      "metadata": {
        "colab": {
          "base_uri": "https://localhost:8080/"
        },
        "id": "r-L9gsyZ8cJ3",
        "outputId": "28c3732c-d959-45b8-bbd2-45c451b2ef80"
      },
      "outputs": [
        {
          "output_type": "execute_result",
          "data": {
            "text/plain": [
              "tensor([[False, False,  True,  ...,  True, False, False],\n",
              "        [False,  True, False,  ...,  True,  True, False],\n",
              "        [False, False,  True,  ...,  True, False, False],\n",
              "        ...,\n",
              "        [False, False, False,  ..., False, False, False],\n",
              "        [False, False, False,  ..., False, False, False],\n",
              "        [False, False, False,  ..., False, False, False]])"
            ]
          },
          "metadata": {},
          "execution_count": 90
        }
      ],
      "source": [
        "corrects = (preds>0.0).float() == train_y\n",
        "corrects"
      ]
    },
    {
      "cell_type": "code",
      "execution_count": null,
      "metadata": {
        "colab": {
          "base_uri": "https://localhost:8080/"
        },
        "id": "AraVDJQz8cJ4",
        "outputId": "9d6f9765-63a6-4d1f-9ffe-c60f6ef76424"
      },
      "outputs": [
        {
          "output_type": "execute_result",
          "data": {
            "text/plain": [
              "0.4912068545818329"
            ]
          },
          "metadata": {},
          "execution_count": 83
        }
      ],
      "source": [
        "corrects.float().mean().item()"
      ]
    },
    {
      "cell_type": "code",
      "execution_count": null,
      "metadata": {
        "id": "zdz33KEO8cJ4"
      },
      "outputs": [],
      "source": [
        "with torch.no_grad(): weights[0] *= 1.0001"
      ]
    },
    {
      "cell_type": "code",
      "execution_count": null,
      "metadata": {
        "colab": {
          "base_uri": "https://localhost:8080/"
        },
        "id": "Tdl_Tvzm8cJ4",
        "outputId": "1400b452-7867-421f-eae1-10a56abe7873"
      },
      "outputs": [
        {
          "output_type": "execute_result",
          "data": {
            "text/plain": [
              "0.4912068545818329"
            ]
          },
          "metadata": {},
          "execution_count": 85
        }
      ],
      "source": [
        "preds = linear1(train_x)\n",
        "((preds>0.0).float() == train_y).float().mean().item()"
      ]
    },
    {
      "cell_type": "code",
      "execution_count": null,
      "metadata": {
        "id": "RawiWmiY8cJ4"
      },
      "outputs": [],
      "source": [
        "trgts  = tensor([1,0,1])\n",
        "prds   = tensor([0.9, 0.4, 0.2])"
      ]
    },
    {
      "cell_type": "code",
      "execution_count": null,
      "metadata": {
        "id": "_aSXRGu38cJ4"
      },
      "outputs": [],
      "source": [
        "def mnist_loss(predictions, targets):\n",
        "    return torch.where(targets==1, 1-predictions, predictions).mean()"
      ]
    },
    {
      "cell_type": "code",
      "execution_count": null,
      "metadata": {
        "colab": {
          "base_uri": "https://localhost:8080/"
        },
        "id": "ZDN3Wi2l8cJ5",
        "outputId": "e91a72df-17a5-4fc8-b20b-0219620afe8c"
      },
      "outputs": [
        {
          "output_type": "execute_result",
          "data": {
            "text/plain": [
              "tensor([0.1000, 0.4000, 0.8000])"
            ]
          },
          "metadata": {},
          "execution_count": 88
        }
      ],
      "source": [
        "torch.where(trgts==1, 1-prds, prds)"
      ]
    },
    {
      "cell_type": "code",
      "execution_count": null,
      "metadata": {
        "colab": {
          "base_uri": "https://localhost:8080/"
        },
        "id": "uFqqzTl18cJ5",
        "outputId": "808dffe4-95fc-4823-ca51-5140369d1e6a"
      },
      "outputs": [
        {
          "output_type": "execute_result",
          "data": {
            "text/plain": [
              "tensor(0.4333)"
            ]
          },
          "metadata": {},
          "execution_count": 89
        }
      ],
      "source": [
        "mnist_loss(prds,trgts)"
      ]
    },
    {
      "cell_type": "code",
      "execution_count": null,
      "metadata": {
        "colab": {
          "base_uri": "https://localhost:8080/"
        },
        "id": "UHiFRfpz8cJ5",
        "outputId": "cd8d2ca9-fef6-4040-a83f-86823983c37d"
      },
      "outputs": [
        {
          "output_type": "execute_result",
          "data": {
            "text/plain": [
              "tensor(0.2333)"
            ]
          },
          "metadata": {},
          "execution_count": 90
        }
      ],
      "source": [
        "mnist_loss(tensor([0.9, 0.4, 0.8]),trgts)"
      ]
    },
    {
      "cell_type": "code",
      "execution_count": null,
      "metadata": {
        "id": "Iiejssfl8cJ5"
      },
      "outputs": [],
      "source": [
        "def sigmoid(x): return 1/(1+torch.exp(-x))"
      ]
    },
    {
      "cell_type": "code",
      "execution_count": null,
      "metadata": {
        "colab": {
          "base_uri": "https://localhost:8080/",
          "height": 396
        },
        "id": "4Ls8swWN8cJ5",
        "outputId": "30ab8233-e232-4e96-9dbc-6cb7790df5a9"
      },
      "outputs": [
        {
          "output_type": "display_data",
          "data": {
            "text/plain": [
              "<Figure size 600x400 with 1 Axes>"
            ],
            "image/png": "[encoded data removed]"
          },
          "metadata": {}
        }
      ],
      "source": [
        "plot_function(torch.sigmoid, title='Sigmoid', min=-4, max=4)"
      ]
    },
    {
      "cell_type": "code",
      "execution_count": null,
      "metadata": {
        "id": "5e5DfSqi8cJ5"
      },
      "outputs": [],
      "source": [
        "def mnist_loss(predictions, targets):\n",
        "    predictions = predictions.sigmoid()\n",
        "    return torch.where(targets==1, 1-predictions, predictions).mean()"
      ]
    },
    {
      "cell_type": "code",
      "execution_count": null,
      "metadata": {
        "colab": {
          "base_uri": "https://localhost:8080/"
        },
        "id": "qRUiC97D8cJ6",
        "outputId": "1437b3d5-7eb0-448c-b8e4-74c17a39246d"
      },
      "outputs": [
        {
          "output_type": "execute_result",
          "data": {
            "text/plain": [
              "[tensor([ 3, 12,  8, 10,  2]),\n",
              " tensor([ 9,  4,  7, 14,  5]),\n",
              " tensor([ 1, 13,  0,  6, 11])]"
            ]
          },
          "metadata": {},
          "execution_count": 94
        }
      ],
      "source": [
        "coll = range(15)\n",
        "dl = DataLoader(coll, batch_size=5, shuffle=True)\n",
        "list(dl)"
      ]
    },
    {
      "cell_type": "code",
      "execution_count": null,
      "metadata": {
        "colab": {
          "base_uri": "https://localhost:8080/"
        },
        "id": "d_IagY_w8cJ6",
        "outputId": "dfd802ce-6553-44c1-ee89-46c73256e60f"
      },
      "outputs": [
        {
          "output_type": "execute_result",
          "data": {
            "text/plain": [
              "(#26) [(0, 'a'),(1, 'b'),(2, 'c'),(3, 'd'),(4, 'e'),(5, 'f'),(6, 'g'),(7, 'h'),(8, 'i'),(9, 'j'),(10, 'k'),(11, 'l'),(12, 'm'),(13, 'n'),(14, 'o'),(15, 'p'),(16, 'q'),(17, 'r'),(18, 's'),(19, 't')...]"
            ]
          },
          "metadata": {},
          "execution_count": 95
        }
      ],
      "source": [
        "ds = L(enumerate(string.ascii_lowercase))\n",
        "ds"
      ]
    },
    {
      "cell_type": "code",
      "execution_count": null,
      "metadata": {
        "colab": {
          "base_uri": "https://localhost:8080/"
        },
        "id": "LFqH2uh78cJ6",
        "outputId": "59de05b8-3ec6-4f10-d028-9e71bb0c5f91"
      },
      "outputs": [
        {
          "output_type": "execute_result",
          "data": {
            "text/plain": [
              "[(tensor([17, 18, 10, 22,  8, 14]), ('r', 's', 'k', 'w', 'i', 'o')),\n",
              " (tensor([20, 15,  9, 13, 21, 12]), ('u', 'p', 'j', 'n', 'v', 'm')),\n",
              " (tensor([ 7, 25,  6,  5, 11, 23]), ('h', 'z', 'g', 'f', 'l', 'x')),\n",
              " (tensor([ 1,  3,  0, 24, 19, 16]), ('b', 'd', 'a', 'y', 't', 'q')),\n",
              " (tensor([2, 4]), ('c', 'e'))]"
            ]
          },
          "metadata": {},
          "execution_count": 96
        }
      ],
      "source": [
        "dl = DataLoader(ds, batch_size=6, shuffle=True)\n",
        "list(dl)"
      ]
    },
    {
      "cell_type": "code",
      "execution_count": null,
      "metadata": {
        "id": "M6R_8z4b8cJ6"
      },
      "outputs": [],
      "source": [
        "weights = init_params((28*28,1))\n",
        "bias = init_params(1)"
      ]
    },
    {
      "cell_type": "code",
      "execution_count": null,
      "metadata": {
        "colab": {
          "base_uri": "https://localhost:8080/"
        },
        "id": "_xqmoiZt8cJ7",
        "outputId": "2ee4257c-2683-4cee-8bac-fb8d7d99d28b"
      },
      "outputs": [
        {
          "output_type": "execute_result",
          "data": {
            "text/plain": [
              "(torch.Size([256, 784]), torch.Size([256, 1]))"
            ]
          },
          "metadata": {},
          "execution_count": 98
        }
      ],
      "source": [
        "dl = DataLoader(dset, batch_size=256)\n",
        "xb,yb = first(dl)\n",
        "xb.shape,yb.shape"
      ]
    },
    {
      "cell_type": "code",
      "execution_count": null,
      "metadata": {
        "id": "q5xy6ULp8cJ7"
      },
      "outputs": [],
      "source": [
        "valid_dl = DataLoader(valid_dset, batch_size=256)"
      ]
    },
    {
      "cell_type": "code",
      "execution_count": null,
      "metadata": {
        "colab": {
          "base_uri": "https://localhost:8080/"
        },
        "id": "u2BUJkVt8cJ7",
        "outputId": "d40f9161-0f54-450e-979f-71e406cd02c5"
      },
      "outputs": [
        {
          "output_type": "execute_result",
          "data": {
            "text/plain": [
              "torch.Size([4, 784])"
            ]
          },
          "metadata": {},
          "execution_count": 100
        }
      ],
      "source": [
        "batch = train_x[:4]\n",
        "batch.shape"
      ]
    },
    {
      "cell_type": "code",
      "execution_count": null,
      "metadata": {
        "colab": {
          "base_uri": "https://localhost:8080/"
        },
        "id": "G9g3z-P98cJ7",
        "outputId": "6db97695-593a-4f1a-db90-a1bce2fbdac5"
      },
      "outputs": [
        {
          "output_type": "execute_result",
          "data": {
            "text/plain": [
              "tensor([[-2.1876],\n",
              "        [-8.3973],\n",
              "        [ 2.5000],\n",
              "        [-4.9473]], grad_fn=<AddBackward0>)"
            ]
          },
          "metadata": {},
          "execution_count": 101
        }
      ],
      "source": [
        "preds = linear1(batch)\n",
        "preds"
      ]
    },
    {
      "cell_type": "code",
      "execution_count": null,
      "metadata": {
        "colab": {
          "base_uri": "https://localhost:8080/"
        },
        "id": "suqNHPWK8cJ7",
        "outputId": "211ceee3-67b1-47eb-ec32-67232599e7af"
      },
      "outputs": [
        {
          "output_type": "execute_result",
          "data": {
            "text/plain": [
              "tensor(0.7419, grad_fn=<MeanBackward0>)"
            ]
          },
          "metadata": {},
          "execution_count": 102
        }
      ],
      "source": [
        "loss = mnist_loss(preds, train_y[:4])\n",
        "loss"
      ]
    },
    {
      "cell_type": "code",
      "execution_count": null,
      "metadata": {
        "colab": {
          "base_uri": "https://localhost:8080/"
        },
        "id": "2Y1bdLTV8cJ7",
        "outputId": "e85ae9d9-a2c1-41d9-889b-ab4ffed64b0f"
      },
      "outputs": [
        {
          "output_type": "execute_result",
          "data": {
            "text/plain": [
              "(torch.Size([784, 1]), tensor(-0.0061), tensor([-0.0420]))"
            ]
          },
          "metadata": {},
          "execution_count": 103
        }
      ],
      "source": [
        "loss.backward()\n",
        "weights.grad.shape,weights.grad.mean(),bias.grad"
      ]
    },
    {
      "cell_type": "code",
      "execution_count": null,
      "metadata": {
        "id": "9Lz47YNW8cJ7"
      },
      "outputs": [],
      "source": [
        "def calc_grad(xb, yb, model):\n",
        "    preds = model(xb)\n",
        "    loss = mnist_loss(preds, yb)\n",
        "    loss.backward()"
      ]
    },
    {
      "cell_type": "code",
      "execution_count": null,
      "metadata": {
        "colab": {
          "base_uri": "https://localhost:8080/"
        },
        "id": "Afk2fJm68cJ7",
        "outputId": "9536ab34-8a31-4f7c-9b45-d5fa7ded1c34"
      },
      "outputs": [
        {
          "output_type": "execute_result",
          "data": {
            "text/plain": [
              "(tensor(-0.0121), tensor([-0.0840]))"
            ]
          },
          "metadata": {},
          "execution_count": 105
        }
      ],
      "source": [
        "calc_grad(batch, train_y[:4], linear1)\n",
        "weights.grad.mean(),bias.grad"
      ]
    },
    {
      "cell_type": "code",
      "execution_count": null,
      "metadata": {
        "colab": {
          "base_uri": "https://localhost:8080/"
        },
        "id": "4kN5xntn8cJ8",
        "outputId": "46b8c768-1eed-4447-f394-4de1920f9ee8"
      },
      "outputs": [
        {
          "output_type": "execute_result",
          "data": {
            "text/plain": [
              "(tensor(-0.0182), tensor([-0.1260]))"
            ]
          },
          "metadata": {},
          "execution_count": 106
        }
      ],
      "source": [
        "calc_grad(batch, train_y[:4], linear1)\n",
        "weights.grad.mean(),bias.grad"
      ]
    },
    {
      "cell_type": "code",
      "execution_count": null,
      "metadata": {
        "id": "RAEH6ZjA8cJ8"
      },
      "outputs": [],
      "source": [
        "weights.grad.zero_()\n",
        "bias.grad.zero_();"
      ]
    },
    {
      "cell_type": "code",
      "execution_count": null,
      "metadata": {
        "id": "ABDr3cMw8cJ8"
      },
      "outputs": [],
      "source": [
        "def train_epoch(model, lr, params):\n",
        "    for xb,yb in dl:\n",
        "        calc_grad(xb, yb, model)\n",
        "        for p in params:\n",
        "            p.data -= p.grad*lr\n",
        "            p.grad.zero_()"
      ]
    },
    {
      "cell_type": "code",
      "execution_count": null,
      "metadata": {
        "colab": {
          "base_uri": "https://localhost:8080/"
        },
        "id": "nBJaD8Ue8cJ8",
        "outputId": "faa05091-fe24-485f-87f0-ecc0592c86b3"
      },
      "outputs": [
        {
          "output_type": "execute_result",
          "data": {
            "text/plain": [
              "tensor([[False],\n",
              "        [False],\n",
              "        [ True],\n",
              "        [False]])"
            ]
          },
          "metadata": {},
          "execution_count": 112
        }
      ],
      "source": [
        "(preds>0.0).float() == train_y[:4]"
      ]
    },
    {
      "cell_type": "code",
      "execution_count": null,
      "metadata": {
        "id": "1ld4Etgd8cJ8"
      },
      "outputs": [],
      "source": [
        "def batch_accuracy(xb, yb):\n",
        "    preds = xb.sigmoid()\n",
        "    correct = (preds>0.5) == yb\n",
        "    return correct.float().mean()"
      ]
    },
    {
      "cell_type": "code",
      "execution_count": null,
      "metadata": {
        "colab": {
          "base_uri": "https://localhost:8080/"
        },
        "id": "YqhGnrDl8cJ8",
        "outputId": "1d635dad-f341-4d9f-bd09-53a2d985f749"
      },
      "outputs": [
        {
          "output_type": "execute_result",
          "data": {
            "text/plain": [
              "tensor(0.2500)"
            ]
          },
          "metadata": {},
          "execution_count": 114
        }
      ],
      "source": [
        "batch_accuracy(linear1(batch), train_y[:4])"
      ]
    },
    {
      "cell_type": "code",
      "execution_count": null,
      "metadata": {
        "id": "NxlNYFgE8cJ8"
      },
      "outputs": [],
      "source": [
        "def validate_epoch(model):\n",
        "    accs = [batch_accuracy(model(xb), yb) for xb,yb in valid_dl]\n",
        "    return round(torch.stack(accs).mean().item(), 4)"
      ]
    },
    {
      "cell_type": "code",
      "execution_count": null,
      "metadata": {
        "colab": {
          "base_uri": "https://localhost:8080/"
        },
        "id": "63Ew3dI68cJ8",
        "outputId": "359fc89d-e3d0-46ec-b553-c46484246821"
      },
      "outputs": [
        {
          "output_type": "execute_result",
          "data": {
            "text/plain": [
              "0.5261"
            ]
          },
          "metadata": {},
          "execution_count": 116
        }
      ],
      "source": [
        "validate_epoch(linear1)"
      ]
    },
    {
      "cell_type": "code",
      "execution_count": null,
      "metadata": {
        "colab": {
          "base_uri": "https://localhost:8080/"
        },
        "id": "xMEWo_Z58cJ9",
        "outputId": "75c68c7e-c976-4877-db31-f5314f800556"
      },
      "outputs": [
        {
          "output_type": "execute_result",
          "data": {
            "text/plain": [
              "0.9183"
            ]
          },
          "metadata": {},
          "execution_count": 120
        }
      ],
      "source": [
        "lr = 1.\n",
        "params = weights,bias\n",
        "train_epoch(linear1, lr, params)\n",
        "validate_epoch(linear1)"
      ]
    },
    {
      "cell_type": "code",
      "execution_count": null,
      "metadata": {
        "colab": {
          "base_uri": "https://localhost:8080/"
        },
        "id": "pKAYRlrw8cJ9",
        "outputId": "1fb7b55e-b2d7-47b5-90e4-d6dec6b46fda"
      },
      "outputs": [
        {
          "output_type": "stream",
          "name": "stdout",
          "text": [
            "0.9276 0.9398 0.9466 0.9505 0.9525 0.9559 0.9579 0.9598 0.9608 0.9613 0.9618 0.9633 0.9637 0.9647 0.9657 0.9672 0.9677 0.9667 0.9672 0.9677 "
          ]
        }
      ],
      "source": [
        "for i in range(20):\n",
        "    train_epoch(linear1, lr, params)\n",
        "    print(validate_epoch(linear1), end=' ')"
      ]
    },
    {
      "cell_type": "code",
      "execution_count": null,
      "metadata": {
        "id": "f3vIs8P48cJ9"
      },
      "outputs": [],
      "source": [
        "linear_model = nn.Linear(28*28,1)"
      ]
    },
    {
      "cell_type": "code",
      "execution_count": null,
      "metadata": {
        "colab": {
          "base_uri": "https://localhost:8080/"
        },
        "id": "V9xdMntF8cJ9",
        "outputId": "a088838b-3d72-4b11-ed5e-e9fbabb516ad"
      },
      "outputs": [
        {
          "output_type": "execute_result",
          "data": {
            "text/plain": [
              "(torch.Size([1, 784]), torch.Size([1]))"
            ]
          },
          "metadata": {},
          "execution_count": 123
        }
      ],
      "source": [
        "w,b = linear_model.parameters()\n",
        "w.shape,b.shape"
      ]
    },
    {
      "cell_type": "code",
      "execution_count": null,
      "metadata": {
        "id": "GctcmF7m8cJ9"
      },
      "outputs": [],
      "source": [
        "class BasicOptim:\n",
        "    def __init__(self,params,lr): self.params,self.lr = list(params),lr\n",
        "\n",
        "    def step(self, *args, **kwargs):\n",
        "        for p in self.params: p.data -= p.grad.data * self.lr\n",
        "\n",
        "    def zero_grad(self, *args, **kwargs):\n",
        "        for p in self.params: p.grad = None"
      ]
    },
    {
      "cell_type": "code",
      "execution_count": null,
      "metadata": {
        "id": "UgD8iyPL8cJ9"
      },
      "outputs": [],
      "source": [
        "opt = BasicOptim(linear_model.parameters(), lr)"
      ]
    },
    {
      "cell_type": "code",
      "execution_count": null,
      "metadata": {
        "id": "IJD29Oma8cJ-"
      },
      "outputs": [],
      "source": [
        "def train_epoch(model):\n",
        "    for xb,yb in dl:\n",
        "        calc_grad(xb, yb, model)\n",
        "        opt.step()\n",
        "        opt.zero_grad()"
      ]
    },
    {
      "cell_type": "code",
      "execution_count": null,
      "metadata": {
        "colab": {
          "base_uri": "https://localhost:8080/"
        },
        "id": "f_yZ7gQF8cJ-",
        "outputId": "7e2857d6-f864-4f07-fad0-bfd4c8e949d2"
      },
      "outputs": [
        {
          "output_type": "execute_result",
          "data": {
            "text/plain": [
              "0.4186"
            ]
          },
          "metadata": {},
          "execution_count": 127
        }
      ],
      "source": [
        "validate_epoch(linear_model)"
      ]
    },
    {
      "cell_type": "code",
      "execution_count": null,
      "metadata": {
        "id": "G_bZBtZ_8cJ-"
      },
      "outputs": [],
      "source": [
        "def train_model(model, epochs):\n",
        "    for i in range(epochs):\n",
        "        train_epoch(model)\n",
        "        print(validate_epoch(model), end=' ')"
      ]
    },
    {
      "cell_type": "code",
      "execution_count": null,
      "metadata": {
        "colab": {
          "base_uri": "https://localhost:8080/"
        },
        "id": "vIh0rLET8cJ-",
        "outputId": "a4215e1e-e6cd-40ce-e84b-2e82c95e3460"
      },
      "outputs": [
        {
          "output_type": "stream",
          "name": "stdout",
          "text": [
            "0.4932 0.7798 0.8516 0.9165 0.9336 0.9487 0.956 0.9634 0.9658 0.9673 0.9692 0.9721 0.9736 0.9741 0.9761 0.9761 0.9775 0.9775 0.978 0.9785 "
          ]
        }
      ],
      "source": [
        "train_model(linear_model, 20)"
      ]
    },
    {
      "cell_type": "code",
      "execution_count": null,
      "metadata": {
        "colab": {
          "base_uri": "https://localhost:8080/"
        },
        "id": "0ZrwT9Ui8cJ-",
        "outputId": "14018303-9105-46df-ef8a-7f197b6306d2"
      },
      "outputs": [
        {
          "output_type": "stream",
          "name": "stdout",
          "text": [
            "0.4932 0.7983 0.8535 0.917 0.9355 0.9492 0.958 0.9643 0.9663 0.9673 0.9707 0.9726 0.9736 0.9751 0.9756 0.9765 0.9775 0.9775 0.978 0.9785 "
          ]
        }
      ],
      "source": [
        "linear_model = nn.Linear(28*28,1)\n",
        "opt = SGD(linear_model.parameters(), lr)\n",
        "train_model(linear_model, 20)"
      ]
    },
    {
      "cell_type": "code",
      "execution_count": null,
      "metadata": {
        "id": "6JVTwjMA8cKA"
      },
      "outputs": [],
      "source": [
        "dls = DataLoaders(dl, valid_dl)"
      ]
    },
    {
      "cell_type": "code",
      "execution_count": null,
      "metadata": {
        "id": "d99WGo6D8cKA"
      },
      "outputs": [],
      "source": [
        "learn = Learner(dls, nn.Linear(28*28,1), opt_func=SGD,\n",
        "                loss_func=mnist_loss, metrics=batch_accuracy)"
      ]
    },
    {
      "cell_type": "code",
      "execution_count": null,
      "metadata": {
        "colab": {
          "base_uri": "https://localhost:8080/",
          "height": 363
        },
        "id": "shrbOjOM8cKA",
        "outputId": "99afcc74-6a80-43ec-b91f-80ba8e3a043a"
      },
      "outputs": [
        {
          "output_type": "display_data",
          "data": {
            "text/plain": [
              "<IPython.core.display.HTML object>"
            ],
            "text/html": [
              "\n",
              "<style>\n",
              "    /* Turns off some styling */\n",
              "    progress {\n",
              "        /* gets rid of default border in Firefox and Opera. */\n",
              "        border: none;\n",
              "        /* Needs to be in here for Safari polyfill so background images work as expected. */\n",
              "        background-size: auto;\n",
              "    }\n",
              "    progress:not([value]), progress:not([value])::-webkit-progress-bar {\n",
              "        background: repeating-linear-gradient(45deg, #7e7e7e, #7e7e7e 10px, #5c5c5c 10px, #5c5c5c 20px);\n",
              "    }\n",
              "    .progress-bar-interrupted, .progress-bar-interrupted::-webkit-progress-bar {\n",
              "        background: #F44336;\n",
              "    }\n",
              "</style>\n"
            ]
          },
          "metadata": {}
        },
        {
          "output_type": "display_data",
          "data": {
            "text/plain": [
              "<IPython.core.display.HTML object>"
            ],
            "text/html": [
              "<table border=\"1\" class=\"dataframe\">\n",
              "  <thead>\n",
              "    <tr style=\"text-align: left;\">\n",
              "      <th>epoch</th>\n",
              "      <th>train_loss</th>\n",
              "      <th>valid_loss</th>\n",
              "      <th>batch_accuracy</th>\n",
              "      <th>time</th>\n",
              "    </tr>\n",
              "  </thead>\n",
              "  <tbody>\n",
              "    <tr>\n",
              "      <td>0</td>\n",
              "      <td>0.636508</td>\n",
              "      <td>0.503531</td>\n",
              "      <td>0.495584</td>\n",
              "      <td>00:00</td>\n",
              "    </tr>\n",
              "    <tr>\n",
              "      <td>1</td>\n",
              "      <td>0.533227</td>\n",
              "      <td>0.187808</td>\n",
              "      <td>0.842002</td>\n",
              "      <td>00:00</td>\n",
              "    </tr>\n",
              "    <tr>\n",
              "      <td>2</td>\n",
              "      <td>0.195589</td>\n",
              "      <td>0.183700</td>\n",
              "      <td>0.833170</td>\n",
              "      <td>00:00</td>\n",
              "    </tr>\n",
              "    <tr>\n",
              "      <td>3</td>\n",
              "      <td>0.085569</td>\n",
              "      <td>0.107622</td>\n",
              "      <td>0.911187</td>\n",
              "      <td>00:00</td>\n",
              "    </tr>\n",
              "    <tr>\n",
              "      <td>4</td>\n",
              "      <td>0.045021</td>\n",
              "      <td>0.078366</td>\n",
              "      <td>0.933759</td>\n",
              "      <td>00:00</td>\n",
              "    </tr>\n",
              "    <tr>\n",
              "      <td>5</td>\n",
              "      <td>0.029193</td>\n",
              "      <td>0.062697</td>\n",
              "      <td>0.946516</td>\n",
              "      <td>00:00</td>\n",
              "    </tr>\n",
              "    <tr>\n",
              "      <td>6</td>\n",
              "      <td>0.022696</td>\n",
              "      <td>0.052944</td>\n",
              "      <td>0.955348</td>\n",
              "      <td>00:00</td>\n",
              "    </tr>\n",
              "    <tr>\n",
              "      <td>7</td>\n",
              "      <td>0.019819</td>\n",
              "      <td>0.046463</td>\n",
              "      <td>0.961727</td>\n",
              "      <td>00:00</td>\n",
              "    </tr>\n",
              "    <tr>\n",
              "      <td>8</td>\n",
              "      <td>0.018365</td>\n",
              "      <td>0.041913</td>\n",
              "      <td>0.965653</td>\n",
              "      <td>00:00</td>\n",
              "    </tr>\n",
              "    <tr>\n",
              "      <td>9</td>\n",
              "      <td>0.017493</td>\n",
              "      <td>0.038563</td>\n",
              "      <td>0.966634</td>\n",
              "      <td>00:00</td>\n",
              "    </tr>\n",
              "  </tbody>\n",
              "</table>"
            ]
          },
          "metadata": {}
        }
      ],
      "source": [
        "learn.fit(10, lr=lr)"
      ]
    },
    {
      "cell_type": "code",
      "execution_count": null,
      "metadata": {
        "id": "iSwoU7928cKA"
      },
      "outputs": [],
      "source": [
        "def simple_net(xb):\n",
        "    res = xb@w1 + b1\n",
        "    res = res.max(tensor(0.0))\n",
        "    res = res@w2 + b2\n",
        "    return res"
      ]
    },
    {
      "cell_type": "code",
      "execution_count": null,
      "metadata": {
        "id": "CjteqU128cKB"
      },
      "outputs": [],
      "source": [
        "w1 = init_params((28*28,30))\n",
        "b1 = init_params(30)\n",
        "w2 = init_params((30,1))\n",
        "b2 = init_params(1)"
      ]
    },
    {
      "cell_type": "code",
      "execution_count": null,
      "metadata": {
        "colab": {
          "base_uri": "https://localhost:8080/",
          "height": 372
        },
        "id": "WRVk89sn8cKB",
        "outputId": "c5df37a4-e136-4d87-eec3-719da1804baf"
      },
      "outputs": [
        {
          "output_type": "display_data",
          "data": {
            "text/plain": [
              "<Figure size 600x400 with 1 Axes>"
            ],
            "image/png": "[encoded data removed]"
          },
          "metadata": {}
        }
      ],
      "source": [
        "plot_function(F.relu)"
      ]
    },
    {
      "cell_type": "code",
      "execution_count": null,
      "metadata": {
        "id": "aoPhHbcn8cKB"
      },
      "outputs": [],
      "source": [
        "simple_net = nn.Sequential(\n",
        "    nn.Linear(28*28,30),\n",
        "    nn.ReLU(),\n",
        "    nn.Linear(30,1)\n",
        ")"
      ]
    },
    {
      "cell_type": "code",
      "execution_count": null,
      "metadata": {
        "id": "vGl3hy5I8cKB"
      },
      "outputs": [],
      "source": [
        "learn = Learner(dls, simple_net, opt_func=SGD,\n",
        "                loss_func=mnist_loss, metrics=batch_accuracy)"
      ]
    },
    {
      "cell_type": "code",
      "execution_count": null,
      "metadata": {
        "colab": {
          "base_uri": "https://localhost:8080/",
          "height": 1000
        },
        "id": "3R4JbdhM8cKB",
        "outputId": "2a9b43ea-b3ff-43f4-fefa-2333fc04ccc6"
      },
      "outputs": [
        {
          "output_type": "display_data",
          "data": {
            "text/plain": [
              "<IPython.core.display.HTML object>"
            ],
            "text/html": [
              "\n",
              "<style>\n",
              "    /* Turns off some styling */\n",
              "    progress {\n",
              "        /* gets rid of default border in Firefox and Opera. */\n",
              "        border: none;\n",
              "        /* Needs to be in here for Safari polyfill so background images work as expected. */\n",
              "        background-size: auto;\n",
              "    }\n",
              "    progress:not([value]), progress:not([value])::-webkit-progress-bar {\n",
              "        background: repeating-linear-gradient(45deg, #7e7e7e, #7e7e7e 10px, #5c5c5c 10px, #5c5c5c 20px);\n",
              "    }\n",
              "    .progress-bar-interrupted, .progress-bar-interrupted::-webkit-progress-bar {\n",
              "        background: #F44336;\n",
              "    }\n",
              "</style>\n"
            ]
          },
          "metadata": {}
        },
        {
          "output_type": "display_data",
          "data": {
            "text/plain": [
              "<IPython.core.display.HTML object>"
            ],
            "text/html": [
              "<table border=\"1\" class=\"dataframe\">\n",
              "  <thead>\n",
              "    <tr style=\"text-align: left;\">\n",
              "      <th>epoch</th>\n",
              "      <th>train_loss</th>\n",
              "      <th>valid_loss</th>\n",
              "      <th>batch_accuracy</th>\n",
              "      <th>time</th>\n",
              "    </tr>\n",
              "  </thead>\n",
              "  <tbody>\n",
              "    <tr>\n",
              "      <td>0</td>\n",
              "      <td>0.319728</td>\n",
              "      <td>0.406920</td>\n",
              "      <td>0.505397</td>\n",
              "      <td>00:00</td>\n",
              "    </tr>\n",
              "    <tr>\n",
              "      <td>1</td>\n",
              "      <td>0.148601</td>\n",
              "      <td>0.235673</td>\n",
              "      <td>0.798332</td>\n",
              "      <td>00:00</td>\n",
              "    </tr>\n",
              "    <tr>\n",
              "      <td>2</td>\n",
              "      <td>0.082089</td>\n",
              "      <td>0.117067</td>\n",
              "      <td>0.915604</td>\n",
              "      <td>00:00</td>\n",
              "    </tr>\n",
              "    <tr>\n",
              "      <td>3</td>\n",
              "      <td>0.053686</td>\n",
              "      <td>0.078488</td>\n",
              "      <td>0.938665</td>\n",
              "      <td>00:00</td>\n",
              "    </tr>\n",
              "    <tr>\n",
              "      <td>4</td>\n",
              "      <td>0.040527</td>\n",
              "      <td>0.061038</td>\n",
              "      <td>0.955348</td>\n",
              "      <td>00:00</td>\n",
              "    </tr>\n",
              "    <tr>\n",
              "      <td>5</td>\n",
              "      <td>0.033825</td>\n",
              "      <td>0.051260</td>\n",
              "      <td>0.964181</td>\n",
              "      <td>00:00</td>\n",
              "    </tr>\n",
              "    <tr>\n",
              "      <td>6</td>\n",
              "      <td>0.029992</td>\n",
              "      <td>0.045093</td>\n",
              "      <td>0.966143</td>\n",
              "      <td>00:00</td>\n",
              "    </tr>\n",
              "    <tr>\n",
              "      <td>7</td>\n",
              "      <td>0.027511</td>\n",
              "      <td>0.040880</td>\n",
              "      <td>0.968106</td>\n",
              "      <td>00:00</td>\n",
              "    </tr>\n",
              "    <tr>\n",
              "      <td>8</td>\n",
              "      <td>0.025728</td>\n",
              "      <td>0.037834</td>\n",
              "      <td>0.969578</td>\n",
              "      <td>00:00</td>\n",
              "    </tr>\n",
              "    <tr>\n",
              "      <td>9</td>\n",
              "      <td>0.024352</td>\n",
              "      <td>0.035526</td>\n",
              "      <td>0.972522</td>\n",
              "      <td>00:00</td>\n",
              "    </tr>\n",
              "    <tr>\n",
              "      <td>10</td>\n",
              "      <td>0.023240</td>\n",
              "      <td>0.033708</td>\n",
              "      <td>0.973503</td>\n",
              "      <td>00:00</td>\n",
              "    </tr>\n",
              "    <tr>\n",
              "      <td>11</td>\n",
              "      <td>0.022314</td>\n",
              "      <td>0.032228</td>\n",
              "      <td>0.973503</td>\n",
              "      <td>00:00</td>\n",
              "    </tr>\n",
              "    <tr>\n",
              "      <td>12</td>\n",
              "      <td>0.021527</td>\n",
              "      <td>0.030987</td>\n",
              "      <td>0.974485</td>\n",
              "      <td>00:00</td>\n",
              "    </tr>\n",
              "    <tr>\n",
              "      <td>13</td>\n",
              "      <td>0.020846</td>\n",
              "      <td>0.029925</td>\n",
              "      <td>0.975466</td>\n",
              "      <td>00:00</td>\n",
              "    </tr>\n",
              "    <tr>\n",
              "      <td>14</td>\n",
              "      <td>0.020249</td>\n",
              "      <td>0.029002</td>\n",
              "      <td>0.975466</td>\n",
              "      <td>00:00</td>\n",
              "    </tr>\n",
              "    <tr>\n",
              "      <td>15</td>\n",
              "      <td>0.019720</td>\n",
              "      <td>0.028189</td>\n",
              "      <td>0.976448</td>\n",
              "      <td>00:00</td>\n",
              "    </tr>\n",
              "    <tr>\n",
              "      <td>16</td>\n",
              "      <td>0.019247</td>\n",
              "      <td>0.027466</td>\n",
              "      <td>0.976938</td>\n",
              "      <td>00:00</td>\n",
              "    </tr>\n",
              "    <tr>\n",
              "      <td>17</td>\n",
              "      <td>0.018819</td>\n",
              "      <td>0.026817</td>\n",
              "      <td>0.977429</td>\n",
              "      <td>00:00</td>\n",
              "    </tr>\n",
              "    <tr>\n",
              "      <td>18</td>\n",
              "      <td>0.018430</td>\n",
              "      <td>0.026231</td>\n",
              "      <td>0.977429</td>\n",
              "      <td>00:00</td>\n",
              "    </tr>\n",
              "    <tr>\n",
              "      <td>19</td>\n",
              "      <td>0.018074</td>\n",
              "      <td>0.025699</td>\n",
              "      <td>0.977920</td>\n",
              "      <td>00:00</td>\n",
              "    </tr>\n",
              "    <tr>\n",
              "      <td>20</td>\n",
              "      <td>0.017747</td>\n",
              "      <td>0.025213</td>\n",
              "      <td>0.978410</td>\n",
              "      <td>00:00</td>\n",
              "    </tr>\n",
              "    <tr>\n",
              "      <td>21</td>\n",
              "      <td>0.017444</td>\n",
              "      <td>0.024767</td>\n",
              "      <td>0.978901</td>\n",
              "      <td>00:00</td>\n",
              "    </tr>\n",
              "    <tr>\n",
              "      <td>22</td>\n",
              "      <td>0.017163</td>\n",
              "      <td>0.024357</td>\n",
              "      <td>0.978901</td>\n",
              "      <td>00:00</td>\n",
              "    </tr>\n",
              "    <tr>\n",
              "      <td>23</td>\n",
              "      <td>0.016900</td>\n",
              "      <td>0.023978</td>\n",
              "      <td>0.980373</td>\n",
              "      <td>00:00</td>\n",
              "    </tr>\n",
              "    <tr>\n",
              "      <td>24</td>\n",
              "      <td>0.016654</td>\n",
              "      <td>0.023627</td>\n",
              "      <td>0.980864</td>\n",
              "      <td>00:00</td>\n",
              "    </tr>\n",
              "    <tr>\n",
              "      <td>25</td>\n",
              "      <td>0.016421</td>\n",
              "      <td>0.023302</td>\n",
              "      <td>0.981354</td>\n",
              "      <td>00:00</td>\n",
              "    </tr>\n",
              "    <tr>\n",
              "      <td>26</td>\n",
              "      <td>0.016202</td>\n",
              "      <td>0.022999</td>\n",
              "      <td>0.981845</td>\n",
              "      <td>00:00</td>\n",
              "    </tr>\n",
              "    <tr>\n",
              "      <td>27</td>\n",
              "      <td>0.015995</td>\n",
              "      <td>0.022717</td>\n",
              "      <td>0.981845</td>\n",
              "      <td>00:00</td>\n",
              "    </tr>\n",
              "    <tr>\n",
              "      <td>28</td>\n",
              "      <td>0.015798</td>\n",
              "      <td>0.022454</td>\n",
              "      <td>0.981845</td>\n",
              "      <td>00:00</td>\n",
              "    </tr>\n",
              "    <tr>\n",
              "      <td>29</td>\n",
              "      <td>0.015611</td>\n",
              "      <td>0.022208</td>\n",
              "      <td>0.981845</td>\n",
              "      <td>00:00</td>\n",
              "    </tr>\n",
              "    <tr>\n",
              "      <td>30</td>\n",
              "      <td>0.015434</td>\n",
              "      <td>0.021978</td>\n",
              "      <td>0.982336</td>\n",
              "      <td>00:00</td>\n",
              "    </tr>\n",
              "    <tr>\n",
              "      <td>31</td>\n",
              "      <td>0.015264</td>\n",
              "      <td>0.021763</td>\n",
              "      <td>0.982826</td>\n",
              "      <td>00:00</td>\n",
              "    </tr>\n",
              "    <tr>\n",
              "      <td>32</td>\n",
              "      <td>0.015101</td>\n",
              "      <td>0.021561</td>\n",
              "      <td>0.982826</td>\n",
              "      <td>00:00</td>\n",
              "    </tr>\n",
              "    <tr>\n",
              "      <td>33</td>\n",
              "      <td>0.014946</td>\n",
              "      <td>0.021371</td>\n",
              "      <td>0.982336</td>\n",
              "      <td>00:00</td>\n",
              "    </tr>\n",
              "    <tr>\n",
              "      <td>34</td>\n",
              "      <td>0.014797</td>\n",
              "      <td>0.021193</td>\n",
              "      <td>0.982336</td>\n",
              "      <td>00:00</td>\n",
              "    </tr>\n",
              "    <tr>\n",
              "      <td>35</td>\n",
              "      <td>0.014655</td>\n",
              "      <td>0.021025</td>\n",
              "      <td>0.982336</td>\n",
              "      <td>00:00</td>\n",
              "    </tr>\n",
              "    <tr>\n",
              "      <td>36</td>\n",
              "      <td>0.014518</td>\n",
              "      <td>0.020866</td>\n",
              "      <td>0.982336</td>\n",
              "      <td>00:00</td>\n",
              "    </tr>\n",
              "    <tr>\n",
              "      <td>37</td>\n",
              "      <td>0.014386</td>\n",
              "      <td>0.020716</td>\n",
              "      <td>0.982826</td>\n",
              "      <td>00:00</td>\n",
              "    </tr>\n",
              "    <tr>\n",
              "      <td>38</td>\n",
              "      <td>0.014259</td>\n",
              "      <td>0.020574</td>\n",
              "      <td>0.983317</td>\n",
              "      <td>00:00</td>\n",
              "    </tr>\n",
              "    <tr>\n",
              "      <td>39</td>\n",
              "      <td>0.014136</td>\n",
              "      <td>0.020440</td>\n",
              "      <td>0.983317</td>\n",
              "      <td>00:00</td>\n",
              "    </tr>\n",
              "  </tbody>\n",
              "</table>"
            ]
          },
          "metadata": {}
        }
      ],
      "source": [
        "#hide_output\n",
        "learn.fit(40, 0.1)"
      ]
    },
    {
      "cell_type": "code",
      "execution_count": null,
      "metadata": {
        "colab": {
          "base_uri": "https://localhost:8080/",
          "height": 436
        },
        "id": "ahjHPiZX8cKB",
        "outputId": "a74b3867-aee6-4b71-85b3-966f658c1b5e"
      },
      "outputs": [
        {
          "output_type": "display_data",
          "data": {
            "text/plain": [
              "<Figure size 640x480 with 1 Axes>"
            ],
            "image/png": "[encoded data removed]"
          },
          "metadata": {}
        }
      ],
      "source": [
        "plt.plot(L(learn.recorder.values).itemgot(2));"
      ]
    },
    {
      "cell_type": "code",
      "execution_count": null,
      "metadata": {
        "colab": {
          "base_uri": "https://localhost:8080/"
        },
        "id": "zK8AANRK8cKC",
        "outputId": "14c5d49e-1a27-4408-c245-fae746b846df"
      },
      "outputs": [
        {
          "output_type": "execute_result",
          "data": {
            "text/plain": [
              "0.983316957950592"
            ]
          },
          "metadata": {},
          "execution_count": 141
        }
      ],
      "source": [
        "learn.recorder.values[-1][2]"
      ]
    },
    {
      "cell_type": "code",
      "execution_count": null,
      "metadata": {
        "colab": {
          "base_uri": "https://localhost:8080/",
          "height": 81
        },
        "id": "5upLdd8v8cKC",
        "outputId": "8b60ab0d-c18c-48d4-8f5e-f6eccf38143d"
      },
      "outputs": [
        {
          "output_type": "display_data",
          "data": {
            "text/plain": [
              "<IPython.core.display.HTML object>"
            ],
            "text/html": [
              "\n",
              "<style>\n",
              "    /* Turns off some styling */\n",
              "    progress {\n",
              "        /* gets rid of default border in Firefox and Opera. */\n",
              "        border: none;\n",
              "        /* Needs to be in here for Safari polyfill so background images work as expected. */\n",
              "        background-size: auto;\n",
              "    }\n",
              "    progress:not([value]), progress:not([value])::-webkit-progress-bar {\n",
              "        background: repeating-linear-gradient(45deg, #7e7e7e, #7e7e7e 10px, #5c5c5c 10px, #5c5c5c 20px);\n",
              "    }\n",
              "    .progress-bar-interrupted, .progress-bar-interrupted::-webkit-progress-bar {\n",
              "        background: #F44336;\n",
              "    }\n",
              "</style>\n"
            ]
          },
          "metadata": {}
        },
        {
          "output_type": "display_data",
          "data": {
            "text/plain": [
              "<IPython.core.display.HTML object>"
            ],
            "text/html": [
              "<table border=\"1\" class=\"dataframe\">\n",
              "  <thead>\n",
              "    <tr style=\"text-align: left;\">\n",
              "      <th>epoch</th>\n",
              "      <th>train_loss</th>\n",
              "      <th>valid_loss</th>\n",
              "      <th>accuracy</th>\n",
              "      <th>time</th>\n",
              "    </tr>\n",
              "  </thead>\n",
              "  <tbody>\n",
              "    <tr>\n",
              "      <td>0</td>\n",
              "      <td>0.126196</td>\n",
              "      <td>0.017546</td>\n",
              "      <td>0.995093</td>\n",
              "      <td>04:20</td>\n",
              "    </tr>\n",
              "  </tbody>\n",
              "</table>"
            ]
          },
          "metadata": {}
        }
      ],
      "source": [
        "dls = ImageDataLoaders.from_folder(path)\n",
        "learn = vision_learner(dls, resnet18, pretrained=False,\n",
        "                    loss_func=F.cross_entropy, metrics=accuracy)\n",
        "learn.fit_one_cycle(1, 0.1)"
      ]
    },
    {
      "cell_type": "code",
      "metadata": {
        "colab": {
          "base_uri": "https://localhost:8080/"
        },
        "id": "dde7a2ee",
        "outputId": "e7b900cf-f730-4c13-bf24-af338ba65c40"
      },
      "source": [
        "try:\n",
        "    # Check if 'sum' is defined in the current global scope\n",
        "    if 'sum' in globals():\n",
        "        print(f\"Variable 'sum' found in globals.\")\n",
        "        print(f\"Type of 'sum': {type(sum)}\")\n",
        "        print(f\"Value of 'sum': {sum}\")\n",
        "    else:\n",
        "        print(\"Variable 'sum' not found in globals.\")\n",
        "except Exception as e:\n",
        "    print(f\"An error occurred while checking for 'sum': {e}\")\n",
        "\n",
        "# You can also check the built-in sum function for comparison\n",
        "print(f\"Type of built-in sum: {type(builtins.sum)}\")"
      ],
      "execution_count": 153,
      "outputs": [
        {
          "output_type": "stream",
          "name": "stdout",
          "text": [
            "Variable 'sum' found in globals.\n",
            "Type of 'sum': <class 'int'>\n",
            "Value of 'sum': 291\n",
            "Type of built-in sum: <class 'builtin_function_or_method'>\n"
          ]
        }
      ]
    }
  ],
  "metadata": {
    "jupytext": {
      "split_at_heading": true
    },
    "kernelspec": {
      "display_name": "Python 3 (ipykernel)",
      "language": "python",
      "name": "python3"
    },
    "colab": {
      "provenance": [],
      "include_colab_link": true
    }
  },
  "nbformat": 4,
  "nbformat_minor": 0
}